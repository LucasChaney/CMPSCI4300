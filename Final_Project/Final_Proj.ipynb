{
  "cells": [
    {
      "cell_type": "markdown",
      "id": "cf20c51f",
      "metadata": {
        "id": "cf20c51f"
      },
      "source": [
        "Kaggle Dataset Diabetes, Hypertensionand Stroke Prediction:https://www.kaggle.com/datasets/prosperchuks/health-dataset/data"
      ]
    },
    {
      "cell_type": "code",
      "source": [
        "import tensorflow as tf\n",
        "gpus = tf.config.experimental.list_physical_devices('GPU')\n",
        "for g in gpus:\n",
        "    tf.config.experimental.set_memory_growth(g, False)\n"
      ],
      "metadata": {
        "id": "S0tjj-g11aA4"
      },
      "id": "S0tjj-g11aA4",
      "execution_count": 39,
      "outputs": []
    },
    {
      "cell_type": "code",
      "execution_count": 40,
      "id": "462f904f",
      "metadata": {
        "id": "462f904f"
      },
      "outputs": [],
      "source": [
        "\n",
        "from sklearn.model_selection import train_test_split\n",
        "from sklearn.preprocessing import MinMaxScaler\n",
        "import seaborn as sns\n",
        "import time\n",
        "import numpy as np\n",
        "import pandas as pd\n",
        "import tensorflow as tf\n",
        "from tensorflow.keras.models import Sequential\n",
        "from tensorflow.keras.layers import Dense, Input\n",
        "from tensorflow.keras.optimizers import Adam\n",
        "from tensorflow.keras.losses import BinaryCrossentropy\n",
        "from tensorflow.keras.callbacks import ModelCheckpoint, EarlyStopping, Callback\n",
        "from sklearn.metrics import accuracy_score, precision_score, recall_score, f1_score\n",
        "import matplotlib.pyplot as plt\n"
      ]
    },
    {
      "cell_type": "code",
      "source": [
        "from google.colab import files\n",
        "'''\n",
        "uploaded = files.upload(\"diabetes_data.csv\")               # click “Choose Files” and select your CSV\n",
        "uploaded = files.upload(\"suffled_diabetes_data.csv\")               # click “Choose Files” and select your CSV\n",
        "data_path = \"/content/diabetes_data.csv\"\n",
        "shuffled_data_path = \"/content/suffled_diabetes_data.csv\"\n",
        "'''"
      ],
      "metadata": {
        "id": "Uyk_FGBOuuye",
        "outputId": "db3af4bc-bc93-42e7-af47-19cb79c9f142",
        "colab": {
          "base_uri": "https://localhost:8080/",
          "height": 88
        }
      },
      "id": "Uyk_FGBOuuye",
      "execution_count": 41,
      "outputs": [
        {
          "output_type": "execute_result",
          "data": {
            "text/plain": [
              "'\\nuploaded = files.upload(\"diabetes_data.csv\")               # click “Choose Files” and select your CSV\\nuploaded = files.upload(\"suffled_diabetes_data.csv\")               # click “Choose Files” and select your CSV\\ndata_path = \"/content/diabetes_data.csv\"\\nshuffled_data_path = \"/content/suffled_diabetes_data.csv\"  \\n'"
            ],
            "application/vnd.google.colaboratory.intrinsic+json": {
              "type": "string"
            }
          },
          "metadata": {},
          "execution_count": 41
        }
      ]
    },
    {
      "cell_type": "code",
      "source": [
        "import tensorflow as tf\n",
        "# List physical devices to confirm GPU is available\n",
        "print(\"GPUs available:\", tf.config.list_physical_devices('GPU'))\n",
        "!nvidia-smi                              # shows GPU status and memory\n"
      ],
      "metadata": {
        "id": "Nnlji-ApvYXo",
        "outputId": "ab87f180-7941-40e7-90ee-a0cab268f203",
        "colab": {
          "base_uri": "https://localhost:8080/"
        }
      },
      "id": "Nnlji-ApvYXo",
      "execution_count": 42,
      "outputs": [
        {
          "output_type": "stream",
          "name": "stdout",
          "text": [
            "GPUs available: [PhysicalDevice(name='/physical_device:GPU:0', device_type='GPU')]\n",
            "Sun Apr 27 21:23:17 2025       \n",
            "+-----------------------------------------------------------------------------------------+\n",
            "| NVIDIA-SMI 550.54.15              Driver Version: 550.54.15      CUDA Version: 12.4     |\n",
            "|-----------------------------------------+------------------------+----------------------+\n",
            "| GPU  Name                 Persistence-M | Bus-Id          Disp.A | Volatile Uncorr. ECC |\n",
            "| Fan  Temp   Perf          Pwr:Usage/Cap |           Memory-Usage | GPU-Util  Compute M. |\n",
            "|                                         |                        |               MIG M. |\n",
            "|=========================================+========================+======================|\n",
            "|   0  Tesla T4                       Off |   00000000:00:04.0 Off |                    0 |\n",
            "| N/A   74C    P0             30W /   70W |    8322MiB /  15360MiB |      0%      Default |\n",
            "|                                         |                        |                  N/A |\n",
            "+-----------------------------------------+------------------------+----------------------+\n",
            "                                                                                         \n",
            "+-----------------------------------------------------------------------------------------+\n",
            "| Processes:                                                                              |\n",
            "|  GPU   GI   CI        PID   Type   Process name                              GPU Memory |\n",
            "|        ID   ID                                                               Usage      |\n",
            "|=========================================================================================|\n",
            "+-----------------------------------------------------------------------------------------+\n"
          ]
        }
      ]
    },
    {
      "cell_type": "markdown",
      "source": [
        "Used to hopefully boost performance using the T4 GPU in google colab"
      ],
      "metadata": {
        "id": "Yr4gvB9m09Uk"
      },
      "id": "Yr4gvB9m09Uk"
    },
    {
      "cell_type": "code",
      "source": [
        "# 0) (Optional) sanity-check that you have a T4\n",
        "!nvidia-smi --query-gpu=name,driver_version,uuid --format=csv\n",
        "\n",
        "# 1) Imports + XLA JIT\n",
        "import os\n",
        "import tensorflow as tf\n",
        "from tensorflow.keras import mixed_precision\n",
        "\n",
        "# Enable XLA (fuses kernels)\n",
        "os.environ['TF_XLA_FLAGS'] = '--tf_xla_auto_jit=2'\n",
        "tf.config.optimizer.set_jit(True)\n",
        "\n",
        "# 2) Enable mixed-precision for Tensor Cores on the T4\n",
        "mixed_precision.set_global_policy('mixed_float16')\n",
        "print(\"Compute dtype:\", mixed_precision.global_policy().compute_dtype)\n",
        "print(\"Variable dtype:\", mixed_precision.global_policy().variable_dtype)\n"
      ],
      "metadata": {
        "id": "SL1Ma84Y09Cy",
        "outputId": "6ad35603-2e19-44b9-e3e4-80ff64f34d5f",
        "colab": {
          "base_uri": "https://localhost:8080/"
        }
      },
      "id": "SL1Ma84Y09Cy",
      "execution_count": 43,
      "outputs": [
        {
          "output_type": "stream",
          "name": "stdout",
          "text": [
            "name, driver_version, uuid\n",
            "Tesla T4, 550.54.15, GPU-5e60299a-8191-65d4-414c-a4b7c9c5d5ef\n",
            "Compute dtype: float16\n",
            "Variable dtype: float32\n"
          ]
        }
      ]
    },
    {
      "cell_type": "markdown",
      "id": "a2c97ca9",
      "metadata": {
        "id": "a2c97ca9"
      },
      "source": [
        "Used to shuffle the dataset so that the predictions are not unevely measured."
      ]
    },
    {
      "cell_type": "code",
      "execution_count": 44,
      "id": "0f3e61ea",
      "metadata": {
        "id": "0f3e61ea"
      },
      "outputs": [],
      "source": [
        "#Change these paths as needed\n",
        "data_path = \"/content/diabetes_data.csv/diabetes_data.csv\"\n",
        "shuffled_data_path =  \"/content/suffled_diabetes_data.csv/shuffled_diabetes_data.csv\""
      ]
    },
    {
      "cell_type": "code",
      "execution_count": 45,
      "id": "3ee087b0",
      "metadata": {
        "id": "3ee087b0"
      },
      "outputs": [],
      "source": [
        "# Load the dataset\n",
        "df = pd.read_csv(data_path)\n",
        "\n",
        "#Shuffle the dataframe\n",
        "df_shuffled = df.sample(frac=1, random_state=42).reset_index(drop=True)\n",
        "\n",
        "#Save the shuffled dataframe to a new CSV file\n",
        "df_shuffled.to_csv(shuffled_data_path, index=False)"
      ]
    },
    {
      "cell_type": "markdown",
      "id": "a4535834",
      "metadata": {
        "id": "a4535834"
      },
      "source": [
        "# Phase 1"
      ]
    },
    {
      "cell_type": "code",
      "execution_count": 46,
      "id": "af983b96",
      "metadata": {
        "colab": {
          "base_uri": "https://localhost:8080/",
          "height": 1000
        },
        "id": "af983b96",
        "outputId": "15ddd6e4-3b59-40ec-d3b8-c72e8cf41683"
      },
      "outputs": [
        {
          "output_type": "stream",
          "name": "stdout",
          "text": [
            "Dataset shape: (70692, 18)\n",
            "    Age  Sex  HighChol  CholCheck   BMI  Smoker  HeartDiseaseorAttack  \\\n",
            "0  10.0  0.0       1.0        1.0  23.0     1.0                   0.0   \n",
            "1  13.0  0.0       0.0        1.0  33.0     1.0                   0.0   \n",
            "2   8.0  1.0       1.0        1.0  27.0     1.0                   0.0   \n",
            "3   7.0  1.0       1.0        1.0  29.0     1.0                   0.0   \n",
            "4   6.0  1.0       0.0        1.0  47.0     0.0                   0.0   \n",
            "\n",
            "   PhysActivity  Fruits  Veggies  HvyAlcoholConsump  GenHlth  MentHlth  \\\n",
            "0           1.0     0.0      1.0                0.0      4.0       0.0   \n",
            "1           0.0     1.0      1.0                0.0      3.0       0.0   \n",
            "2           1.0     1.0      1.0                0.0      2.0       0.0   \n",
            "3           0.0     1.0      0.0                0.0      3.0       0.0   \n",
            "4           1.0     1.0      1.0                0.0      4.0      30.0   \n",
            "\n",
            "   PhysHlth  DiffWalk  Stroke  HighBP  Diabetes  \n",
            "0       0.0       0.0     0.0     0.0       1.0  \n",
            "1       3.0       1.0     0.0     0.0       0.0  \n",
            "2       5.0       0.0     0.0     1.0       0.0  \n",
            "3       5.0       0.0     0.0     0.0       0.0  \n",
            "4      10.0       1.0     0.0     1.0       1.0  \n",
            "\n",
            "Missing values:\n",
            "Age                     0\n",
            "Sex                     0\n",
            "HighChol                0\n",
            "CholCheck               0\n",
            "BMI                     0\n",
            "Smoker                  0\n",
            "HeartDiseaseorAttack    0\n",
            "PhysActivity            0\n",
            "Fruits                  0\n",
            "Veggies                 0\n",
            "HvyAlcoholConsump       0\n",
            "GenHlth                 0\n",
            "MentHlth                0\n",
            "PhysHlth                0\n",
            "DiffWalk                0\n",
            "Stroke                  0\n",
            "HighBP                  0\n",
            "Diabetes                0\n",
            "dtype: int64\n",
            "\n",
            "Training set shape: (63622, 17)\n",
            "Validation set shape: (7070, 17)\n"
          ]
        },
        {
          "output_type": "display_data",
          "data": {
            "text/plain": [
              "<Figure size 1200x600 with 1 Axes>"
            ],
            "image/png": "[encoded data removed]"
          },
          "metadata": {}
        },
        {
          "output_type": "display_data",
          "data": {
            "text/plain": [
              "<Figure size 640x480 with 1 Axes>"
            ],
            "image/png": "[encoded data removed]"
          },
          "metadata": {}
        }
      ],
      "source": [
        "\n",
        "# Display dataset shape and first few rows\n",
        "print(\"Dataset shape:\", df_shuffled.shape)\n",
        "print(df_shuffled.head())\n",
        "\n",
        "# Check for null values\n",
        "print(\"\\nMissing values:\")\n",
        "print(df_shuffled.isnull().sum())\n",
        "\n",
        "# Target column: Diabetes (0 or 1)\n",
        "# Separate features and target\n",
        "X = df_shuffled.drop(columns=['Diabetes'])\n",
        "y = df_shuffled['Diabetes']\n",
        "\n",
        "# Normalize numeric input features\n",
        "scaler = MinMaxScaler()\n",
        "X_scaled = pd.DataFrame(scaler.fit_transform(X), columns=X.columns)\n",
        "\n",
        "# Split into training (90%) and validation (10%) sets\n",
        "X_train, X_val, y_train, y_val = train_test_split(X_scaled, y, test_size=0.1, random_state=42, stratify=y)\n",
        "\n",
        "# Print resulting shapes\n",
        "print(\"\\nTraining set shape:\", X_train.shape)\n",
        "print(\"Validation set shape:\", X_val.shape)\n",
        "\n",
        "# Plot feature distribution examples\n",
        "plt.figure(figsize=(12, 6))\n",
        "sns.histplot(X['BMI'], kde=True, bins=30)\n",
        "plt.title('BMI Distribution')\n",
        "plt.xlabel('BMI')\n",
        "plt.ylabel('Count')\n",
        "plt.show()\n",
        "\n",
        "sns.countplot(x=y)\n",
        "plt.title('Target Label Distribution (Diabetes)')\n",
        "plt.xlabel('Diabetes (0 = No, 1 = Yes)')\n",
        "plt.ylabel('Count')\n",
        "plt.show()\n"
      ]
    },
    {
      "cell_type": "markdown",
      "id": "7c86c105",
      "metadata": {
        "id": "7c86c105"
      },
      "source": [
        "# Phase 2"
      ]
    },
    {
      "cell_type": "markdown",
      "id": "ff99e254",
      "metadata": {
        "id": "ff99e254"
      },
      "source": [
        "Overfitting the data"
      ]
    },
    {
      "cell_type": "code",
      "execution_count": 47,
      "id": "89d5060b",
      "metadata": {
        "id": "89d5060b"
      },
      "outputs": [],
      "source": [
        "# Store results for Phase 2\n",
        "overfitting_results = []\n",
        "\n",
        "class EarlyStoppingByAccuracy(Callback):\n",
        "    def __init__(self, monitor='accuracy', value=0.99):\n",
        "        super().__init__()\n",
        "        self.monitor = monitor\n",
        "        self.value = value\n",
        "\n",
        "    def on_epoch_end(self, epoch, logs=None):\n",
        "        if logs.get(self.monitor) >= self.value:\n",
        "            print(f\"Reached {self.value*100:.1f}% training accuracy. Stopping training.\")\n",
        "            self.model.stop_training = True"
      ]
    },
    {
      "cell_type": "code",
      "execution_count": 48,
      "id": "8955df3c",
      "metadata": {
        "id": "8955df3c"
      },
      "outputs": [],
      "source": [
        "def build_and_train_overfit_model(hidden_layers, neurons_per_layer, input_dim, epochs=1, batch_size=256):\n",
        "    # Build the model\n",
        "    model = Sequential()\n",
        "    model.add(Input(shape=(input_dim,)))\n",
        "    for _ in range(hidden_layers):\n",
        "        model.add(Dense(neurons_per_layer, activation='relu'))\n",
        "    model.add(Dense(1, activation='sigmoid'))\n",
        "\n",
        "    # Compile\n",
        "    model.compile(\n",
        "        optimizer=Adam(learning_rate=0.001),\n",
        "        loss=BinaryCrossentropy(),\n",
        "        metrics=['accuracy']\n",
        "    )\n",
        "\n",
        "    # Train with early stopping\n",
        "    early_stop = EarlyStoppingByAccuracy(monitor='accuracy', value=0.99)\n",
        "    history = model.fit(\n",
        "        X_scaled, y,\n",
        "        epochs=epochs,\n",
        "        batch_size=batch_size,\n",
        "        verbose=1,\n",
        "        callbacks=[early_stop]\n",
        "    )\n",
        "\n",
        "    # Return final accuracy\n",
        "    final_acc = history.history['accuracy'][-1]\n",
        "    return model, history, final_acc"
      ]
    },
    {
      "cell_type": "code",
      "execution_count": 49,
      "id": "cba672fd",
      "metadata": {
        "colab": {
          "base_uri": "https://localhost:8080/"
        },
        "id": "cba672fd",
        "outputId": "5ff172a3-7a8c-41e2-8411-963320f8f966"
      },
      "outputs": [
        {
          "output_type": "stream",
          "name": "stdout",
          "text": [
            "Training model: 4096-neurons x 7-layers\n",
            "\u001b[1m277/277\u001b[0m \u001b[32m━━━━━━━━━━━━━━━━━━━━\u001b[0m\u001b[37m\u001b[0m \u001b[1m29s\u001b[0m 87ms/step - accuracy: 0.6887 - loss: 0.6092\n",
            "Finished model: 4096-neurons x 7-layers in 28.72 seconds with final training accuracy: 0.7280\n"
          ]
        }
      ],
      "source": [
        "# Define configurations\n",
        "layer_sizes = [7]\n",
        "neuron_options = [4096]\n",
        "\n",
        "total_start_time = time.time()\n",
        "overfitting_results.clear()\n",
        "\n",
        "# Loop over architectures\n",
        "for layers in layer_sizes:\n",
        "    for neurons in neuron_options:\n",
        "        label = f\"{neurons}-neurons x {layers}-layers\"\n",
        "        print(f\"Training model: {label}\")\n",
        "        start_time = time.time()\n",
        "        model, history, final_acc = build_and_train_overfit_model(\n",
        "            hidden_layers=layers,\n",
        "            neurons_per_layer=neurons,\n",
        "            input_dim=X_scaled.shape[1],\n",
        "            epochs=1,\n",
        "            batch_size=256\n",
        "        )\n",
        "        elapsed_time = time.time() - start_time\n",
        "        overfitting_results.append((label, final_acc, elapsed_time))\n",
        "        print(f\"Finished model: {label} in {elapsed_time:.2f} seconds with final training accuracy: {final_acc:.4f}\")\n",
        "        if final_acc >= 0.99:\n",
        "            break"
      ]
    },
    {
      "cell_type": "code",
      "execution_count": 50,
      "id": "caf51648",
      "metadata": {
        "id": "caf51648",
        "outputId": "6d889614-806f-405a-ba13-5f1ff5b22429",
        "colab": {
          "base_uri": "https://localhost:8080/"
        }
      },
      "outputs": [
        {
          "output_type": "stream",
          "name": "stdout",
          "text": [
            "\n",
            "Overfitting Results:\n",
            "4096-neurons x 7-layers => Training Accuracy: 0.7280, Time: 28.72 seconds\n",
            "\n",
            "Total training time for all models: 28.72 seconds\n"
          ]
        }
      ],
      "source": [
        "# Display results\n",
        "total_elapsed = time.time() - total_start_time\n",
        "print(\"\\nOverfitting Results:\")\n",
        "for config, acc, t in overfitting_results:\n",
        "    print(f\"{config} => Training Accuracy: {acc:.4f}, Time: {t:.2f} seconds\")\n",
        "print(f\"\\nTotal training time for all models: {total_elapsed:.2f} seconds\")"
      ]
    },
    {
      "cell_type": "code",
      "source": [
        "# Plot Accuracy vs Model Configuration\n",
        "plt.figure(figsize=(10, 5))\n",
        "configs = [cfg for cfg, _, _ in overfitting_results]\n",
        "accuracies = [acc for _, acc, _ in overfitting_results]\n",
        "plt.plot(range(len(configs)), accuracies, marker='o')\n",
        "plt.xticks(range(len(configs)), configs, rotation=90)\n",
        "plt.ylabel(\"Training Accuracy\")\n",
        "plt.title(\"Training Accuracy vs Model Architecture\")\n",
        "plt.grid(True)\n",
        "plt.tight_layout()\n",
        "plt.show()"
      ],
      "metadata": {
        "id": "xKSQth9XzxHf",
        "outputId": "b9ae0d85-22a1-4cac-c0cf-121ddb6d02e7",
        "colab": {
          "base_uri": "https://localhost:8080/",
          "height": 335
        }
      },
      "id": "xKSQth9XzxHf",
      "execution_count": 51,
      "outputs": [
        {
          "output_type": "display_data",
          "data": {
            "text/plain": [
              "<Figure size 1000x500 with 1 Axes>"
            ],
            "image/png": "[encoded data removed]"
          },
          "metadata": {}
        }
      ]
    },
    {
      "cell_type": "markdown",
      "id": "05d35e8f",
      "metadata": {
        "id": "05d35e8f"
      },
      "source": [
        "# Phase 3: Model Selection and Evaluation"
      ]
    },
    {
      "cell_type": "code",
      "execution_count": 52,
      "id": "26115536",
      "metadata": {
        "id": "26115536"
      },
      "outputs": [],
      "source": [
        "# Store evaluation results\n",
        "evaluation_results = []\n",
        "\n",
        "# Custom EarlyStoppingByAccuracy callback\n",
        "class EarlyStoppingByAccuracy(Callback):\n",
        "    def __init__(self, monitor='accuracy', value=0.99):\n",
        "        super().__init__()\n",
        "        self.monitor = monitor\n",
        "        self.value = value\n",
        "\n",
        "    def on_epoch_end(self, epoch, logs=None):\n",
        "        if logs.get(self.monitor) >= self.value:\n",
        "            print(f\"Reached {self.value*100:.1f}% training accuracy. Stopping training.\")\n",
        "            self.model.stop_training = True\n",
        "\n",
        "# Function to build and train model for Phase 3\n",
        "def train_and_evaluate_model_phase3(hidden_layers, neurons_per_layer, input_dim, model_name):\n",
        "    model = Sequential()\n",
        "    model.add(Input(shape=(input_dim,)))\n",
        "    for _ in range(hidden_layers):\n",
        "        model.add(Dense(neurons_per_layer, activation='relu'))\n",
        "    model.add(Dense(1, activation='sigmoid'))\n",
        "\n",
        "    model.compile(optimizer=Adam(), loss=BinaryCrossentropy(), metrics=['accuracy'])\n",
        "\n",
        "    checkpoint = ModelCheckpoint(f'{model_name}_best.keras', monitor='val_loss', save_best_only=True, mode='min')\n",
        "    early_stopping = EarlyStoppingByAccuracy(monitor='accuracy', value=0.99)\n",
        "\n",
        "    history = model.fit(\n",
        "        X_train, y_train,\n",
        "        epochs=150,\n",
        "        validation_data=(X_val, y_val),\n",
        "        callbacks=[checkpoint, early_stopping],\n",
        "        verbose=0\n",
        "    )\n",
        "\n",
        "    preds = np.round(model.predict(X_val)).flatten()\n",
        "    acc_train = history.history['accuracy'][-1]\n",
        "    acc_val = accuracy_score(y_val, preds)\n",
        "    loss_train = history.history['loss'][-1]\n",
        "    loss_val = BinaryCrossentropy()(y_val, preds).numpy()\n",
        "    precision = precision_score(y_val, preds)\n",
        "    recall = recall_score(y_val, preds)\n",
        "    f1 = f1_score(y_val, preds)\n",
        "    params = model.count_params()\n",
        "\n",
        "    evaluation_results.append((model_name, acc_train, acc_val, loss_train, loss_val, precision, recall, f1, params, history))\n"
      ]
    },
    {
      "cell_type": "code",
      "execution_count": 53,
      "id": "882107ab",
      "metadata": {
        "id": "882107ab"
      },
      "outputs": [],
      "source": [
        "# 1. Random Baseline Classifier\n",
        "random_preds = np.random.choice([0, 1], size=y_val.shape)\n",
        "random_acc = accuracy_score(y_val, random_preds)\n",
        "random_precision = precision_score(y_val, random_preds)\n",
        "random_recall = recall_score(y_val, random_preds)\n",
        "random_f1 = f1_score(y_val, random_preds)\n",
        "random_train_acc = accuracy_score(y_train, np.random.choice([0, 1], size=y_train.shape))\n",
        "random_train_loss = 1.0\n",
        "random_val_loss = 1.0\n",
        "\n",
        "evaluation_results.append((\"Random Baseline\", random_train_acc, random_acc, random_train_loss, random_val_loss, random_precision, random_recall, random_f1, \"-\", None))\n"
      ]
    },
    {
      "cell_type": "code",
      "execution_count": null,
      "id": "5757464f",
      "metadata": {
        "id": "5757464f"
      },
      "outputs": [],
      "source": [
        "# 2. Logistic Regression (no hidden layers)\n",
        "train_and_evaluate_model_phase3(hidden_layers=0, neurons_per_layer=1, input_dim=X_train.shape[1], model_name=\"Logistic Regression\")\n"
      ]
    },
    {
      "cell_type": "code",
      "execution_count": null,
      "id": "c6fc1604",
      "metadata": {
        "id": "c6fc1604"
      },
      "outputs": [],
      "source": [
        "# 3. Neural Network Architectures to Evaluate\n",
        "architectures = {\n",
        "    \"64-32-16-8-1\": [64, 32, 16, 8],\n",
        "    \"32-16-8-1\": [32, 16, 8],\n",
        "    \"16-8-1\": [16, 8],\n",
        "    \"8-1\": [8],\n",
        "    \"4-1\": [4],\n",
        "    \"2-1\": [2]\n",
        "}\n",
        "\n",
        "for name, layers in architectures.items():\n",
        "    hidden_layers = len(layers)\n",
        "    neurons_per_layer = layers[0]\n",
        "    train_and_evaluate_model_phase3(hidden_layers, neurons_per_layer, X_train.shape[1], model_name=name)\n"
      ]
    },
    {
      "cell_type": "code",
      "execution_count": null,
      "id": "26a4364a",
      "metadata": {
        "id": "26a4364a"
      },
      "outputs": [],
      "source": [
        "# Summarize Results\n",
        "columns = [\"Model\", \"Acc. on Training Set\", \"Acc. on Validation Set\", \"Loss on Training Set\", \"Loss on Validation Set\", \"Precision\", \"Recall\", \"F1 Score\", \"# Parameters\", \"History\"]\n",
        "results_df = pd.DataFrame(evaluation_results, columns=columns)\n"
      ]
    },
    {
      "cell_type": "code",
      "source": [
        "# Display Table\n",
        "print(results_df.drop(columns=['History']))\n"
      ],
      "metadata": {
        "id": "r8fDyORz0JuV"
      },
      "id": "r8fDyORz0JuV",
      "execution_count": null,
      "outputs": []
    },
    {
      "cell_type": "code",
      "execution_count": null,
      "id": "52a362cf",
      "metadata": {
        "id": "52a362cf"
      },
      "outputs": [],
      "source": [
        "# Identify Best Model\n",
        "best_model = results_df.sort_values(by=\"Acc. on Validation Set\", ascending=False).iloc[0]\n",
        "print(\"\\nBest Performing Model:\")\n",
        "print(best_model.drop(labels='History'))"
      ]
    },
    {
      "cell_type": "code",
      "execution_count": null,
      "id": "41cdf094",
      "metadata": {
        "id": "41cdf094"
      },
      "outputs": [],
      "source": [
        "# Plot Learning Curves for each model\n",
        "for idx, row in results_df.iterrows():\n",
        "    if row['History'] is not None:\n",
        "        history = row['History']\n",
        "        plt.figure(figsize=(12,5))\n",
        "        plt.subplot(1,2,1)\n",
        "        plt.plot(history.history['accuracy'], label='Training Accuracy')\n",
        "        plt.plot(history.history['val_accuracy'], label='Validation Accuracy')\n",
        "        plt.title(f\"{row['Model']} - Accuracy\")\n",
        "        plt.xlabel('Epoch')\n",
        "        plt.ylabel('Accuracy')\n",
        "        plt.legend()\n",
        "\n",
        "        plt.subplot(1,2,2)\n",
        "        plt.plot(history.history['loss'], label='Training Loss')\n",
        "        plt.plot(history.history['val_loss'], label='Validation Loss')\n",
        "        plt.title(f\"{row['Model']} - Loss\")\n",
        "        plt.xlabel('Epoch')\n",
        "        plt.ylabel('Loss')\n",
        "        plt.legend()\n",
        "\n",
        "        plt.tight_layout()\n",
        "        plt.show()"
      ]
    }
  ],
  "metadata": {
    "accelerator": "GPU",
    "colab": {
      "gpuType": "T4",
      "provenance": []
    },
    "kernelspec": {
      "display_name": "Python 3",
      "name": "python3"
    },
    "language_info": {
      "codemirror_mode": {
        "name": "ipython",
        "version": 3
      },
      "file_extension": ".py",
      "mimetype": "text/x-python",
      "name": "python",
      "nbconvert_exporter": "python",
      "pygments_lexer": "ipython3",
      "version": "3.12.7"
    }
  },
  "nbformat": 4,
  "nbformat_minor": 5
}