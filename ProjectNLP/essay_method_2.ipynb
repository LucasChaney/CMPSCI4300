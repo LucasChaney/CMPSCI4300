{
 "cells": [
  {
   "cell_type": "code",
   "execution_count": 1,
   "id": "d5fdf930",
   "metadata": {},
   "outputs": [],
   "source": [
    "import pandas as pd\n",
    "from sklearn.feature_extraction.text import TfidfVectorizer\n",
    "from sklearn.metrics.pairwise import cosine_similarity\n",
    "from itertools import combinations\n",
    "from joblib import Parallel, delayed\n",
    "import time\n",
    "from tqdm import tqdm\n",
    "from IPython.display import display, Markdown\n"
   ]
  },
  {
   "cell_type": "code",
   "execution_count": 2,
   "id": "6d0c8d55",
   "metadata": {},
   "outputs": [],
   "source": [
    "df = pd.read_csv(\"nlp_project_train.csv\")\n",
    "df = df[['essay_id', 'full_text', 'score']]\n",
    "df = df[~df['full_text'].str.contains(\"PROPER_NAME\", na=False)].reset_index(drop=True)\n",
    "df = df.head(1000)  # adjust as needed\n"
   ]
  },
  {
   "cell_type": "code",
   "execution_count": 3,
   "id": "50620137",
   "metadata": {},
   "outputs": [],
   "source": [
    "vectorizer = TfidfVectorizer(stop_words='english')\n",
    "X = vectorizer.fit_transform(df['full_text'])\n"
   ]
  },
  {
   "cell_type": "code",
   "execution_count": 4,
   "id": "6b38fbe0",
   "metadata": {},
   "outputs": [],
   "source": [
    "def simple_word_overlap(text1, text2):\n",
    "    words1 = set(text1.lower().split())\n",
    "    words2 = set(text2.lower().split())\n",
    "    return len(words1 & words2) / len(words1 | words2) if words1 and words2 else 0.0\n",
    "\n",
    "def compare_pair(i, j):\n",
    "    cosine_score = cosine_similarity(X[i], X[j])[0][0]\n",
    "    if cosine_score >= 0.999:\n",
    "        return None\n",
    "    overlap_score = simple_word_overlap(df.iloc[i]['full_text'], df.iloc[j]['full_text'])\n",
    "    return (cosine_score, overlap_score, i, j)\n"
   ]
  },
  {
   "cell_type": "code",
   "execution_count": 5,
   "id": "63b10f23",
   "metadata": {},
   "outputs": [
    {
     "name": "stderr",
     "output_type": "stream",
     "text": [
      "Comparing Pairs: 100%|██████████| 499500/499500 [00:41<00:00, 12051.08it/s]\n"
     ]
    },
    {
     "name": "stdout",
     "output_type": "stream",
     "text": [
      "[Progress] Compared 50,000 pairs — 0m 42s\n",
      "[Progress] Compared 100,000 pairs — 0m 42s\n",
      "[Progress] Compared 150,000 pairs — 0m 42s\n",
      "[Progress] Compared 200,000 pairs — 0m 42s\n",
      "[Progress] Compared 250,000 pairs — 0m 42s\n",
      "[Progress] Compared 300,000 pairs — 0m 42s\n",
      "[Progress] Compared 350,000 pairs — 0m 42s\n",
      "[Progress] Compared 400,000 pairs — 0m 42s\n",
      "[Progress] Compared 450,000 pairs — 0m 42s\n",
      "\n",
      "=== Comparison Summary ===\n",
      "Total Comparisons: 499,500\n",
      "Total Time: 42.63 seconds\n",
      "Comparisons per Second: 11,718.13\n",
      "Average Time per Comparison: 0.0853 ms\n"
     ]
    }
   ],
   "source": [
    "all_pairs = []\n",
    "interval = 50000\n",
    "start_time = time.time()\n",
    "pairs = list(combinations(range(X.shape[0]), 2))\n",
    "\n",
    "results = Parallel(n_jobs=-1, prefer='processes')(\n",
    "    delayed(compare_pair)(i, j) for i, j in tqdm(pairs, desc=\"Comparing Pairs\")\n",
    ")\n",
    "\n",
    "for count, result in enumerate(results):\n",
    "    if result:\n",
    "        all_pairs.append(result)\n",
    "    if (count + 1) % interval == 0:\n",
    "        elapsed = time.time() - start_time\n",
    "        mins, secs = divmod(elapsed, 60)\n",
    "        print(f\"[Progress] Compared {count + 1:,} pairs — {int(mins)}m {int(secs)}s\", flush=True)\n",
    "\n",
    "end_time = time.time()\n",
    "total_time = end_time - start_time\n",
    "total_comparisons = len(pairs)\n",
    "comparisons_per_sec = total_comparisons / total_time\n",
    "avg_time_per_pair = total_time / total_comparisons\n",
    "\n",
    "print(\"\\n=== Comparison Summary ===\")\n",
    "print(f\"Total Comparisons: {total_comparisons:,}\")\n",
    "print(f\"Total Time: {total_time:.2f} seconds\")\n",
    "print(f\"Comparisons per Second: {comparisons_per_sec:,.2f}\")\n",
    "print(f\"Average Time per Comparison: {avg_time_per_pair * 1000:.4f} ms\")\n"
   ]
  },
  {
   "cell_type": "code",
   "execution_count": 6,
   "id": "0093b1d4",
   "metadata": {},
   "outputs": [],
   "source": [
    "top_5 = sorted(all_pairs, key=lambda x: x[0], reverse=True)[:5]\n",
    "false_pos = sorted(all_pairs, key=lambda x: x[0] - x[1], reverse=True)[:2]\n",
    "false_neg = sorted(all_pairs, key=lambda x: x[1] - x[0], reverse=True)[:2]\n"
   ]
  },
  {
   "cell_type": "code",
   "execution_count": 7,
   "id": "bdb70cc5",
   "metadata": {},
   "outputs": [],
   "source": [
    "def display_result(title, pairs, df, label1='Cosine', label2='Overlap'):\n",
    "    display(Markdown(f\"## {title}\"))\n",
    "    for entry in pairs:\n",
    "        if len(entry) != 4:\n",
    "            display(Markdown(\"Skipping entry due to incorrect format.\"))\n",
    "            continue\n",
    "        sim, overlap, i, j = entry\n",
    "        try:\n",
    "            display(Markdown(f\"**Essay {df.iloc[i]['essay_id']} vs {df.iloc[j]['essay_id']}**\"))\n",
    "            display(Markdown(f\"- {label1}: `{sim:.4f}`\"))\n",
    "            display(Markdown(f\"- {label2}: `{overlap:.4f}`\"))\n",
    "            display(Markdown(f\"**Essay 1 Preview**: {df.iloc[i]['full_text'][:150].replace(chr(10), ' ')}\"))\n",
    "            display(Markdown(f\"**Essay 2 Preview**: {df.iloc[j]['full_text'][:150].replace(chr(10), ' ')}\"))\n",
    "            display(Markdown(\"---\"))\n",
    "        except Exception as e:\n",
    "            display(Markdown(f\"Error displaying pair: {e}\"))\n"
   ]
  },
  {
   "cell_type": "code",
   "execution_count": 8,
   "id": "954ad925",
   "metadata": {},
   "outputs": [
    {
     "data": {
      "text/markdown": [
       "## Top 5 Most Similar Essays (TF-IDF)"
      ],
      "text/plain": [
       "<IPython.core.display.Markdown object>"
      ]
     },
     "metadata": {},
     "output_type": "display_data"
    },
    {
     "data": {
      "text/markdown": [
       "**Essay 051c46a vs 0870f09**"
      ],
      "text/plain": [
       "<IPython.core.display.Markdown object>"
      ]
     },
     "metadata": {},
     "output_type": "display_data"
    },
    {
     "data": {
      "text/markdown": [
       "- Cosine: `0.7412`"
      ],
      "text/plain": [
       "<IPython.core.display.Markdown object>"
      ]
     },
     "metadata": {},
     "output_type": "display_data"
    },
    {
     "data": {
      "text/markdown": [
       "- Overlap: `0.2353`"
      ],
      "text/plain": [
       "<IPython.core.display.Markdown object>"
      ]
     },
     "metadata": {},
     "output_type": "display_data"
    },
    {
     "data": {
      "text/markdown": [
       "**Essay 1 Preview**: Dear senator,\r \r I have done research and I would like to change the Electoral College to the popular vote for the President of the United States. Sou"
      ],
      "text/plain": [
       "<IPython.core.display.Markdown object>"
      ]
     },
     "metadata": {},
     "output_type": "display_data"
    },
    {
     "data": {
      "text/markdown": [
       "**Essay 2 Preview**: Changing the election by popluar vote for the President of the United States would be a better option than keeping the Electoral College. Although the"
      ],
      "text/plain": [
       "<IPython.core.display.Markdown object>"
      ]
     },
     "metadata": {},
     "output_type": "display_data"
    },
    {
     "data": {
      "text/markdown": [
       "---"
      ],
      "text/plain": [
       "<IPython.core.display.Markdown object>"
      ]
     },
     "metadata": {},
     "output_type": "display_data"
    },
    {
     "data": {
      "text/markdown": [
       "**Essay 077377d vs 0c8f97b**"
      ],
      "text/plain": [
       "<IPython.core.display.Markdown object>"
      ]
     },
     "metadata": {},
     "output_type": "display_data"
    },
    {
     "data": {
      "text/markdown": [
       "- Cosine: `0.7346`"
      ],
      "text/plain": [
       "<IPython.core.display.Markdown object>"
      ]
     },
     "metadata": {},
     "output_type": "display_data"
    },
    {
     "data": {
      "text/markdown": [
       "- Overlap: `0.2197`"
      ],
      "text/plain": [
       "<IPython.core.display.Markdown object>"
      ]
     },
     "metadata": {},
     "output_type": "display_data"
    },
    {
     "data": {
      "text/markdown": [
       "**Essay 1 Preview**: The Electoral College is a process, not a place. The meaning of Electoral College is stated in Source 1: What is Electoral College and in paragraph 2."
      ],
      "text/plain": [
       "<IPython.core.display.Markdown object>"
      ]
     },
     "metadata": {},
     "output_type": "display_data"
    },
    {
     "data": {
      "text/markdown": [
       "**Essay 2 Preview**: The Electoral College is not a place, but a process. It was established by the founding fathers in the Constitution. The college consists of electors,"
      ],
      "text/plain": [
       "<IPython.core.display.Markdown object>"
      ]
     },
     "metadata": {},
     "output_type": "display_data"
    },
    {
     "data": {
      "text/markdown": [
       "---"
      ],
      "text/plain": [
       "<IPython.core.display.Markdown object>"
      ]
     },
     "metadata": {},
     "output_type": "display_data"
    },
    {
     "data": {
      "text/markdown": [
       "**Essay 02d481d vs 0f81127**"
      ],
      "text/plain": [
       "<IPython.core.display.Markdown object>"
      ]
     },
     "metadata": {},
     "output_type": "display_data"
    },
    {
     "data": {
      "text/markdown": [
       "- Cosine: `0.7324`"
      ],
      "text/plain": [
       "<IPython.core.display.Markdown object>"
      ]
     },
     "metadata": {},
     "output_type": "display_data"
    },
    {
     "data": {
      "text/markdown": [
       "- Overlap: `0.2057`"
      ],
      "text/plain": [
       "<IPython.core.display.Markdown object>"
      ]
     },
     "metadata": {},
     "output_type": "display_data"
    },
    {
     "data": {
      "text/markdown": [
       "**Essay 1 Preview**: Dear, Senator\r \r The\r \r Electoral college has been around for centuries and as time changes, things start to evolve and grow along with the time perio"
      ],
      "text/plain": [
       "<IPython.core.display.Markdown object>"
      ]
     },
     "metadata": {},
     "output_type": "display_data"
    },
    {
     "data": {
      "text/markdown": [
       "**Essay 2 Preview**: It is often said that \"change is good.\" This saying is one way to describe my feelings towards the Electoral College. The sources \"What Is the Elector"
      ],
      "text/plain": [
       "<IPython.core.display.Markdown object>"
      ]
     },
     "metadata": {},
     "output_type": "display_data"
    },
    {
     "data": {
      "text/markdown": [
       "---"
      ],
      "text/plain": [
       "<IPython.core.display.Markdown object>"
      ]
     },
     "metadata": {},
     "output_type": "display_data"
    },
    {
     "data": {
      "text/markdown": [
       "**Essay 0bf39e6 vs 0c8f97b**"
      ],
      "text/plain": [
       "<IPython.core.display.Markdown object>"
      ]
     },
     "metadata": {},
     "output_type": "display_data"
    },
    {
     "data": {
      "text/markdown": [
       "- Cosine: `0.7185`"
      ],
      "text/plain": [
       "<IPython.core.display.Markdown object>"
      ]
     },
     "metadata": {},
     "output_type": "display_data"
    },
    {
     "data": {
      "text/markdown": [
       "- Overlap: `0.2768`"
      ],
      "text/plain": [
       "<IPython.core.display.Markdown object>"
      ]
     },
     "metadata": {},
     "output_type": "display_data"
    },
    {
     "data": {
      "text/markdown": [
       "**Essay 1 Preview**: The electoral college is a process established in the constitution as a compromise between election of the president by a popular vote of qualified ci"
      ],
      "text/plain": [
       "<IPython.core.display.Markdown object>"
      ]
     },
     "metadata": {},
     "output_type": "display_data"
    },
    {
     "data": {
      "text/markdown": [
       "**Essay 2 Preview**: The Electoral College is not a place, but a process. It was established by the founding fathers in the Constitution. The college consists of electors,"
      ],
      "text/plain": [
       "<IPython.core.display.Markdown object>"
      ]
     },
     "metadata": {},
     "output_type": "display_data"
    },
    {
     "data": {
      "text/markdown": [
       "---"
      ],
      "text/plain": [
       "<IPython.core.display.Markdown object>"
      ]
     },
     "metadata": {},
     "output_type": "display_data"
    },
    {
     "data": {
      "text/markdown": [
       "**Essay 0c61969 vs 0f7dda8**"
      ],
      "text/plain": [
       "<IPython.core.display.Markdown object>"
      ]
     },
     "metadata": {},
     "output_type": "display_data"
    },
    {
     "data": {
      "text/markdown": [
       "- Cosine: `0.7043`"
      ],
      "text/plain": [
       "<IPython.core.display.Markdown object>"
      ]
     },
     "metadata": {},
     "output_type": "display_data"
    },
    {
     "data": {
      "text/markdown": [
       "- Overlap: `0.2570`"
      ],
      "text/plain": [
       "<IPython.core.display.Markdown object>"
      ]
     },
     "metadata": {},
     "output_type": "display_data"
    },
    {
     "data": {
      "text/markdown": [
       "**Essay 1 Preview**: I dissagree with the fact that the state wants to keep favor of electoral college. I think they should change the way the whole election is set up by "
      ],
      "text/plain": [
       "<IPython.core.display.Markdown object>"
      ]
     },
     "metadata": {},
     "output_type": "display_data"
    },
    {
     "data": {
      "text/markdown": [
       "**Essay 2 Preview**: I think that we dont need to keep the Electoral College because it is not a good way for people to vote.\r \r I think how we should vote is by a majorit"
      ],
      "text/plain": [
       "<IPython.core.display.Markdown object>"
      ]
     },
     "metadata": {},
     "output_type": "display_data"
    },
    {
     "data": {
      "text/markdown": [
       "---"
      ],
      "text/plain": [
       "<IPython.core.display.Markdown object>"
      ]
     },
     "metadata": {},
     "output_type": "display_data"
    },
    {
     "data": {
      "text/markdown": [
       "## False Positives (High Cosine, Low Overlap)"
      ],
      "text/plain": [
       "<IPython.core.display.Markdown object>"
      ]
     },
     "metadata": {},
     "output_type": "display_data"
    },
    {
     "data": {
      "text/markdown": [
       "**Essay 02d481d vs 0f81127**"
      ],
      "text/plain": [
       "<IPython.core.display.Markdown object>"
      ]
     },
     "metadata": {},
     "output_type": "display_data"
    },
    {
     "data": {
      "text/markdown": [
       "- Cosine: `0.7324`"
      ],
      "text/plain": [
       "<IPython.core.display.Markdown object>"
      ]
     },
     "metadata": {},
     "output_type": "display_data"
    },
    {
     "data": {
      "text/markdown": [
       "- Overlap: `0.2057`"
      ],
      "text/plain": [
       "<IPython.core.display.Markdown object>"
      ]
     },
     "metadata": {},
     "output_type": "display_data"
    },
    {
     "data": {
      "text/markdown": [
       "**Essay 1 Preview**: Dear, Senator\r \r The\r \r Electoral college has been around for centuries and as time changes, things start to evolve and grow along with the time perio"
      ],
      "text/plain": [
       "<IPython.core.display.Markdown object>"
      ]
     },
     "metadata": {},
     "output_type": "display_data"
    },
    {
     "data": {
      "text/markdown": [
       "**Essay 2 Preview**: It is often said that \"change is good.\" This saying is one way to describe my feelings towards the Electoral College. The sources \"What Is the Elector"
      ],
      "text/plain": [
       "<IPython.core.display.Markdown object>"
      ]
     },
     "metadata": {},
     "output_type": "display_data"
    },
    {
     "data": {
      "text/markdown": [
       "---"
      ],
      "text/plain": [
       "<IPython.core.display.Markdown object>"
      ]
     },
     "metadata": {},
     "output_type": "display_data"
    },
    {
     "data": {
      "text/markdown": [
       "**Essay 077377d vs 0c8f97b**"
      ],
      "text/plain": [
       "<IPython.core.display.Markdown object>"
      ]
     },
     "metadata": {},
     "output_type": "display_data"
    },
    {
     "data": {
      "text/markdown": [
       "- Cosine: `0.7346`"
      ],
      "text/plain": [
       "<IPython.core.display.Markdown object>"
      ]
     },
     "metadata": {},
     "output_type": "display_data"
    },
    {
     "data": {
      "text/markdown": [
       "- Overlap: `0.2197`"
      ],
      "text/plain": [
       "<IPython.core.display.Markdown object>"
      ]
     },
     "metadata": {},
     "output_type": "display_data"
    },
    {
     "data": {
      "text/markdown": [
       "**Essay 1 Preview**: The Electoral College is a process, not a place. The meaning of Electoral College is stated in Source 1: What is Electoral College and in paragraph 2."
      ],
      "text/plain": [
       "<IPython.core.display.Markdown object>"
      ]
     },
     "metadata": {},
     "output_type": "display_data"
    },
    {
     "data": {
      "text/markdown": [
       "**Essay 2 Preview**: The Electoral College is not a place, but a process. It was established by the founding fathers in the Constitution. The college consists of electors,"
      ],
      "text/plain": [
       "<IPython.core.display.Markdown object>"
      ]
     },
     "metadata": {},
     "output_type": "display_data"
    },
    {
     "data": {
      "text/markdown": [
       "---"
      ],
      "text/plain": [
       "<IPython.core.display.Markdown object>"
      ]
     },
     "metadata": {},
     "output_type": "display_data"
    },
    {
     "data": {
      "text/markdown": [
       "## False Negatives (High Overlap, Low Cosine)"
      ],
      "text/plain": [
       "<IPython.core.display.Markdown object>"
      ]
     },
     "metadata": {},
     "output_type": "display_data"
    },
    {
     "data": {
      "text/markdown": [
       "**Essay 04f1fc3 vs 09b7da8**"
      ],
      "text/plain": [
       "<IPython.core.display.Markdown object>"
      ]
     },
     "metadata": {},
     "output_type": "display_data"
    },
    {
     "data": {
      "text/markdown": [
       "- Overlap: `0.0227`"
      ],
      "text/plain": [
       "<IPython.core.display.Markdown object>"
      ]
     },
     "metadata": {},
     "output_type": "display_data"
    },
    {
     "data": {
      "text/markdown": [
       "- Cosine: `0.2166`"
      ],
      "text/plain": [
       "<IPython.core.display.Markdown object>"
      ]
     },
     "metadata": {},
     "output_type": "display_data"
    },
    {
     "data": {
      "text/markdown": [
       "**Essay 1 Preview**: First,If i was a scientist at NASA talking to others about them truly believing the Face wasn't created by aliens. I would tell them aliens are not re"
      ],
      "text/plain": [
       "<IPython.core.display.Markdown object>"
      ]
     },
     "metadata": {},
     "output_type": "display_data"
    },
    {
     "data": {
      "text/markdown": [
       "**Essay 2 Preview**: No they should not use the technology in class rooms because thats a invashion of pricicy. And they dont need to know every little thing going on in o"
      ],
      "text/plain": [
       "<IPython.core.display.Markdown object>"
      ]
     },
     "metadata": {},
     "output_type": "display_data"
    },
    {
     "data": {
      "text/markdown": [
       "---"
      ],
      "text/plain": [
       "<IPython.core.display.Markdown object>"
      ]
     },
     "metadata": {},
     "output_type": "display_data"
    },
    {
     "data": {
      "text/markdown": [
       "**Essay 05508b4 vs 0fd322d**"
      ],
      "text/plain": [
       "<IPython.core.display.Markdown object>"
      ]
     },
     "metadata": {},
     "output_type": "display_data"
    },
    {
     "data": {
      "text/markdown": [
       "- Overlap: `0.0322`"
      ],
      "text/plain": [
       "<IPython.core.display.Markdown object>"
      ]
     },
     "metadata": {},
     "output_type": "display_data"
    },
    {
     "data": {
      "text/markdown": [
       "- Cosine: `0.2217`"
      ],
      "text/plain": [
       "<IPython.core.display.Markdown object>"
      ]
     },
     "metadata": {},
     "output_type": "display_data"
    },
    {
     "data": {
      "text/markdown": [
       "**Essay 1 Preview**: The author is very convinceing he didnt just say whats good nor did he say all what is bad.\r \r From the text he made the evidce of how Venus has made "
      ],
      "text/plain": [
       "<IPython.core.display.Markdown object>"
      ]
     },
     "metadata": {},
     "output_type": "display_data"
    },
    {
     "data": {
      "text/markdown": [
       "**Essay 2 Preview**: So you believe that the face on Mars was alien made. There are very many people that belive it is alien made to. There are also many people that belie"
      ],
      "text/plain": [
       "<IPython.core.display.Markdown object>"
      ]
     },
     "metadata": {},
     "output_type": "display_data"
    },
    {
     "data": {
      "text/markdown": [
       "---"
      ],
      "text/plain": [
       "<IPython.core.display.Markdown object>"
      ]
     },
     "metadata": {},
     "output_type": "display_data"
    }
   ],
   "source": [
    "display_result(\"Top 5 Most Similar Essays (TF-IDF)\", top_5, df)\n",
    "display_result(\"False Positives (High Cosine, Low Overlap)\", false_pos, df)\n",
    "display_result(\"False Negatives (High Overlap, Low Cosine)\", false_neg, df, label1=\"Overlap\", label2=\"Cosine\")\n"
   ]
  }
 ],
 "metadata": {
  "kernelspec": {
   "display_name": "Python 3",
   "language": "python",
   "name": "python3"
  },
  "language_info": {
   "codemirror_mode": {
    "name": "ipython",
    "version": 3
   },
   "file_extension": ".py",
   "mimetype": "text/x-python",
   "name": "python",
   "nbconvert_exporter": "python",
   "pygments_lexer": "ipython3",
   "version": "3.12.7"
  }
 },
 "nbformat": 4,
 "nbformat_minor": 5
}
