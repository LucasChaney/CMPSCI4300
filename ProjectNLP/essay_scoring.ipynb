{
 "cells": [
  {
   "cell_type": "code",
   "execution_count": 2,
   "metadata": {},
   "outputs": [
    {
     "name": "stdout",
     "output_type": "stream",
     "text": [
      "Index(['essay_id', 'full_text', 'score'], dtype='object')\n",
      "  essay_id                                          full_text  score\n",
      "0  000d118  Many people have car where they live. The thin...      3\n",
      "1  000fe60  I am a scientist at NASA that is discussing th...      3\n",
      "2  001ab80  People always wish they had the same technolog...      4\n",
      "3  001bdc0  We all heard about Venus, the planet without a...      4\n",
      "4  002ba53  Dear, State Senator\\r\\n\\r\\nThis is a letter to...      3\n"
     ]
    }
   ],
   "source": [
    "import pandas as pd\n",
    "\n",
    "# Load the training data\n",
    "train_path = r'train.csv'\n",
    "df = pd.read_csv(train_path)\n",
    "\n",
    "# Quick peek at the data\n",
    "print(df.columns)\n",
    "print(df[[\"essay_id\",\"full_text\",\"score\"]].head())\n",
    "\n",
    "#Remove placeholder essays like \"PROPER_NAME\"\n",
    "df = df[~df['full_text'].str.contains(\"PROPER_NAME\", na=False)]\n",
    "\n",
    "# Reset index for safety\n",
    "df.reset_index(drop=True, inplace=True)\n"
   ]
  },
  {
   "cell_type": "markdown",
   "metadata": {},
   "source": [
    "# Use this to preview an essay of choice"
   ]
  },
  {
   "cell_type": "code",
   "execution_count": 3,
   "metadata": {},
   "outputs": [
    {
     "name": "stdout",
     "output_type": "stream",
     "text": [
      "Essay ID: 000d118\n",
      "Essay Preview:\n",
      " Many people have car where they live. The thing they don't know is that when you use a car alot of thing can happen like you can get in accidet or the smoke that the car has is bad to breath on if someone is walk but in VAUBAN,Germany they dont have that proble because 70 percent of vauban's families do not own cars,and 57 percent sold a car to move there. Street parkig ,driveways and home garages are forbidden on the outskirts of freiburd that near the French and Swiss borders. You probaly won'\n"
     ]
    }
   ],
   "source": [
    "print(\"Essay ID:\", df.loc[0, 'essay_id'])\n",
    "print(\"Essay Preview:\\n\", df.loc[0, 'full_text'][:500])\n"
   ]
  },
  {
   "cell_type": "markdown",
   "metadata": {},
   "source": [
    "## Method 1"
   ]
  },
  {
   "cell_type": "code",
   "execution_count": 4,
   "metadata": {},
   "outputs": [],
   "source": [
    "import pandas as pd\n",
    "from sklearn.feature_extraction.text import CountVectorizer\n",
    "from sklearn.metrics.pairwise import cosine_similarity\n",
    "import numpy as np\n",
    "import heapq"
   ]
  },
  {
   "cell_type": "code",
   "execution_count": 5,
   "metadata": {},
   "outputs": [],
   "source": [
    "# Load the training data\n",
    "df = pd.read_csv(r'train.csv')\n",
    "df = df[['essay_id', 'full_text', 'score']]\n",
    "df = df[~df['full_text'].str.contains(\"PROPER_NAME\", na=False)]\n",
    "# Remove comment to set cap of 1000 essays for testing.\n",
    "#df = df.head(1000).reset_index(drop=True)"
   ]
  },
  {
   "cell_type": "code",
   "execution_count": 6,
   "metadata": {},
   "outputs": [],
   "source": [
    "vectorizer = CountVectorizer(stop_words='english')\n",
    "X = vectorizer.fit_transform(df['full_text'])  # Sparse matrix (num_essays x vocab_size)"
   ]
  },
  {
   "cell_type": "code",
   "execution_count": 7,
   "metadata": {},
   "outputs": [],
   "source": [
    "similarity_matrix = cosine_similarity(X)\n",
    "\n",
    "# Set diagonal (self-similarity) to 0 so we don't pick them\n",
    "np.fill_diagonal(similarity_matrix, 0)"
   ]
  },
  {
   "cell_type": "code",
   "execution_count": 8,
   "metadata": {},
   "outputs": [],
   "source": [
    "top_5_heap = []\n",
    "\n",
    "for i in range(similarity_matrix.shape[0]):\n",
    "    for j in range(i + 1, similarity_matrix.shape[0]):\n",
    "        sim = similarity_matrix[i, j]\n",
    "        if sim >= 0.999:  # Skip near-exact duplicates\n",
    "            continue\n",
    "        if len(top_5_heap) < 5:\n",
    "            heapq.heappush(top_5_heap, (sim, i, j))\n",
    "        else:\n",
    "            heapq.heappushpop(top_5_heap, (sim, i, j))\n"
   ]
  },
  {
   "cell_type": "code",
   "execution_count": 9,
   "metadata": {},
   "outputs": [
    {
     "name": "stdout",
     "output_type": "stream",
     "text": [
      "\n",
      "Essay 29aa983 vs Essay 6d25307\n",
      "Similarity Score: 0.9219\n",
      " the challege of expor of the articleenus with the technology that we haave\n",
      " Whould you send someone to explore venus with even if we don't have the technology necessary?The author of the\n",
      "\n",
      "Essay 7f55753 vs Essay 9985008\n",
      "Similarity Score: 0.8890\n",
      " The founding fathers etablished ss, not a place...\n",
      "Essay 2 Preview: In the first source its explain what a Electoral College is which is not a place it's a process the finding fathers established it in the Constitution\n",
      "\n",
      "Essay 4d0c575 vs Essay e026924\n",
      "Similarity Score: 0.8873\n",
      "Essay 1 Preview: Dear state senator i am writing to you because i would like to try a different way to select the president by using the popular. most states have a \"w\n",
      " What are the chances in favor of keeping the electoral college or changing to election by popular vote for the president of the unite\n",
      "\n",
      "Essay 7cdf8b2 vs Essay 84a1b1a\n",
      "Similarity Score: 0.8864\n",
      " Today I am going to write about how electoral colleges work. The Electrical College is a process, not a place. The f\n",
      " Do you think that we should keep the Electoral College? We should keep the electoral college because the founding fathers estab\n",
      "\n",
      "Essay 287ed5e vs Essay 84a1b1a\n",
      "Similarity Score: 0.8773\n",
      "Essay 1 Preview: I think the Electoral college is a good way to vote for the president or vice president because i think without the Electoral college, we wouldn't hav\n",
      " Do you think that we should keep the Electoral College? We should keep the electoral college because the founding fathers estab\n"
     ]
    }
   ],
   "source": [
    "top_5 = sorted(top_5_heap, key=lambda x: x[0], reverse=True)\n",
    "\n",
    "for sim, i, j in top_5:\n",
    "    print(f\"\\nEssay {df.iloc[i]['essay_id']} vs Essay {df.iloc[j]['essay_id']}\")\n",
    "    print(f\"Similarity Score: {sim:.4f}\")\n",
    "    print(\"Essay 1 Preview:\", df.iloc[i]['full_text'][:150].replace('\\n', ' '))\n",
    "    print(\"Essay 2 Preview:\", df.iloc[j]['full_text'][:150].replace('\\n', ' '))"
   ]
  }
 ],
 "metadata": {
  "kernelspec": {
   "display_name": "Python 3",
   "language": "python",
   "name": "python3"
  },
  "language_info": {
   "codemirror_mode": {
    "name": "ipython",
    "version": 3
   },
   "file_extension": ".py",
   "mimetype": "text/x-python",
   "name": "python",
   "nbconvert_exporter": "python",
   "pygments_lexer": "ipython3",
   "version": "3.12.7"
  }
 },
 "nbformat": 4,
 "nbformat_minor": 2
}
