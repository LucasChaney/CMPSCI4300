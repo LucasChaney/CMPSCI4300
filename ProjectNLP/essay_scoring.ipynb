{
 "cells": [
  {
   "cell_type": "code",
   "execution_count": 1,
   "metadata": {},
   "outputs": [
    {
     "name": "stdout",
     "output_type": "stream",
     "text": [
      "Index(['essay_id', 'full_text', 'score'], dtype='object')\n",
      "  essay_id                                          full_text  score\n",
      "0  000d118  Many people have car where they live. The thin...      3\n",
      "1  000fe60  I am a scientist at NASA that is discussing th...      3\n",
      "2  001ab80  People always wish they had the same technolog...      4\n",
      "3  001bdc0  We all heard about Venus, the planet without a...      4\n",
      "4  002ba53  Dear, State Senator\\n\\nThis is a letter to arg...      3\n"
     ]
    }
   ],
   "source": [
    "import pandas as pd\n",
    "\n",
    "# Load the training data\n",
    "train_path = r'nlp_project_train.csv'\n",
    "df = pd.read_csv(train_path)\n",
    "\n",
    "# Quick peek at the data\n",
    "print(df.columns)\n",
    "print(df[[\"essay_id\",\"full_text\",\"score\"]].head())\n",
    "\n",
    "#Remove placeholder essays like \"PROPER_NAME\"\n",
    "df = df[~df['full_text'].str.contains(\"PROPER_NAME\", na=False)]\n",
    "\n",
    "# Reset index for safety\n",
    "df.reset_index(drop=True, inplace=True)\n"
   ]
  },
  {
   "cell_type": "markdown",
   "metadata": {},
   "source": [
    "# Use this to preview an essay of choice"
   ]
  },
  {
   "cell_type": "code",
   "execution_count": 2,
   "metadata": {},
   "outputs": [
    {
     "name": "stdout",
     "output_type": "stream",
     "text": [
      "Essay ID: 000d118\n",
      "Essay Preview:\n",
      " Many people have car where they live. The thing they don't know is that when you use a car alot of thing can happen like you can get in accidet or the smoke that the car has is bad to breath on if someone is walk but in VAUBAN,Germany they dont have that proble because 70 percent of vauban's families do not own cars,and 57 percent sold a car to move there. Street parkig ,driveways and home garages are forbidden on the outskirts of freiburd that near the French and Swiss borders. You probaly won'\n"
     ]
    }
   ],
   "source": [
    "print(\"Essay ID:\", df.loc[0, 'essay_id'])\n",
    "print(\"Essay Preview:\\n\", df.loc[0, 'full_text'][:500])\n"
   ]
  },
  {
   "cell_type": "markdown",
   "metadata": {},
   "source": [
    "## Method 1"
   ]
  },
  {
   "cell_type": "code",
   "execution_count": 3,
   "metadata": {},
   "outputs": [],
   "source": [
    "import pandas as pd\n",
    "from sklearn.feature_extraction.text import CountVectorizer\n",
    "from sklearn.metrics.pairwise import cosine_similarity\n",
    "import numpy as np\n",
    "import heapq"
   ]
  },
  {
   "cell_type": "code",
   "execution_count": 4,
   "metadata": {},
   "outputs": [],
   "source": [
    "# Load the training data\n",
    "df = pd.read_csv(r'nlp_project_train.csv')\n",
    "df = df[['essay_id', 'full_text', 'score']]\n",
    "df = df[~df['full_text'].str.contains(\"PROPER_NAME\", na=False)]\n",
    "# Remove comment to set cap of 1000 essays for testing.\n",
    "#df = df.head(1000).reset_index(drop=True)"
   ]
  },
  {
   "cell_type": "code",
   "execution_count": 5,
   "metadata": {},
   "outputs": [],
   "source": [
    "vectorizer = CountVectorizer(stop_words='english')\n",
    "X = vectorizer.fit_transform(df['full_text'])  # Sparse matrix (num_essays x vocab_size)"
   ]
  },
  {
   "cell_type": "code",
   "execution_count": 6,
   "metadata": {},
   "outputs": [],
   "source": [
    "similarity_matrix = cosine_similarity(X)\n",
    "\n",
    "# Set diagonal (self-similarity) to 0 so we don't pick them\n",
    "np.fill_diagonal(similarity_matrix, 0)"
   ]
  },
  {
   "cell_type": "code",
   "execution_count": 7,
   "metadata": {},
   "outputs": [],
   "source": [
    "# Simple word overlap function\n",
    "def simple_word_overlap(text1, text2):\n",
    "    words1 = set(text1.lower().split())\n",
    "    words2 = set(text2.lower().split())\n",
    "    if not words1 or not words2:\n",
    "        return 0.0\n",
    "    return len(words1 & words2) / len(words1 | words2)"
   ]
  },
  {
   "cell_type": "code",
   "execution_count": 9,
   "metadata": {},
   "outputs": [
    {
     "ename": "KeyboardInterrupt",
     "evalue": "",
     "output_type": "error",
     "traceback": [
      "\u001b[1;31m---------------------------------------------------------------------------\u001b[0m",
      "\u001b[1;31mKeyboardInterrupt\u001b[0m                         Traceback (most recent call last)",
      "Cell \u001b[1;32mIn[9], line 9\u001b[0m\n\u001b[0;32m      7\u001b[0m \u001b[38;5;28;01mfor\u001b[39;00m i \u001b[38;5;129;01min\u001b[39;00m \u001b[38;5;28mrange\u001b[39m(X\u001b[38;5;241m.\u001b[39mshape[\u001b[38;5;241m0\u001b[39m]):\n\u001b[0;32m      8\u001b[0m     \u001b[38;5;28;01mfor\u001b[39;00m j \u001b[38;5;129;01min\u001b[39;00m \u001b[38;5;28mrange\u001b[39m(i \u001b[38;5;241m+\u001b[39m \u001b[38;5;241m1\u001b[39m, X\u001b[38;5;241m.\u001b[39mshape[\u001b[38;5;241m0\u001b[39m]):\n\u001b[1;32m----> 9\u001b[0m         cosine_score \u001b[38;5;241m=\u001b[39m \u001b[43mcosine_similarity\u001b[49m\u001b[43m(\u001b[49m\u001b[43mX\u001b[49m\u001b[43m[\u001b[49m\u001b[43mi\u001b[49m\u001b[43m]\u001b[49m\u001b[43m,\u001b[49m\u001b[43m \u001b[49m\u001b[43mX\u001b[49m\u001b[43m[\u001b[49m\u001b[43mj\u001b[49m\u001b[43m]\u001b[49m\u001b[43m)\u001b[49m[\u001b[38;5;241m0\u001b[39m][\u001b[38;5;241m0\u001b[39m]\n\u001b[0;32m     10\u001b[0m         \u001b[38;5;28;01mif\u001b[39;00m cosine_score \u001b[38;5;241m>\u001b[39m\u001b[38;5;241m=\u001b[39m \u001b[38;5;241m0.999\u001b[39m:\n\u001b[0;32m     11\u001b[0m             \u001b[38;5;28;01mcontinue\u001b[39;00m  \u001b[38;5;66;03m# Skip near-duplicates\u001b[39;00m\n",
      "File \u001b[1;32mc:\\Python312\\Lib\\site-packages\\sklearn\\utils\\_param_validation.py:213\u001b[0m, in \u001b[0;36mvalidate_params.<locals>.decorator.<locals>.wrapper\u001b[1;34m(*args, **kwargs)\u001b[0m\n\u001b[0;32m    207\u001b[0m \u001b[38;5;28;01mtry\u001b[39;00m:\n\u001b[0;32m    208\u001b[0m     \u001b[38;5;28;01mwith\u001b[39;00m config_context(\n\u001b[0;32m    209\u001b[0m         skip_parameter_validation\u001b[38;5;241m=\u001b[39m(\n\u001b[0;32m    210\u001b[0m             prefer_skip_nested_validation \u001b[38;5;129;01mor\u001b[39;00m global_skip_validation\n\u001b[0;32m    211\u001b[0m         )\n\u001b[0;32m    212\u001b[0m     ):\n\u001b[1;32m--> 213\u001b[0m         \u001b[38;5;28;01mreturn\u001b[39;00m \u001b[43mfunc\u001b[49m\u001b[43m(\u001b[49m\u001b[38;5;241;43m*\u001b[39;49m\u001b[43margs\u001b[49m\u001b[43m,\u001b[49m\u001b[43m \u001b[49m\u001b[38;5;241;43m*\u001b[39;49m\u001b[38;5;241;43m*\u001b[39;49m\u001b[43mkwargs\u001b[49m\u001b[43m)\u001b[49m\n\u001b[0;32m    214\u001b[0m \u001b[38;5;28;01mexcept\u001b[39;00m InvalidParameterError \u001b[38;5;28;01mas\u001b[39;00m e:\n\u001b[0;32m    215\u001b[0m     \u001b[38;5;66;03m# When the function is just a wrapper around an estimator, we allow\u001b[39;00m\n\u001b[0;32m    216\u001b[0m     \u001b[38;5;66;03m# the function to delegate validation to the estimator, but we replace\u001b[39;00m\n\u001b[0;32m    217\u001b[0m     \u001b[38;5;66;03m# the name of the estimator by the name of the function in the error\u001b[39;00m\n\u001b[0;32m    218\u001b[0m     \u001b[38;5;66;03m# message to avoid confusion.\u001b[39;00m\n\u001b[0;32m    219\u001b[0m     msg \u001b[38;5;241m=\u001b[39m re\u001b[38;5;241m.\u001b[39msub(\n\u001b[0;32m    220\u001b[0m         \u001b[38;5;124mr\u001b[39m\u001b[38;5;124m\"\u001b[39m\u001b[38;5;124mparameter of \u001b[39m\u001b[38;5;124m\\\u001b[39m\u001b[38;5;124mw+ must be\u001b[39m\u001b[38;5;124m\"\u001b[39m,\n\u001b[0;32m    221\u001b[0m         \u001b[38;5;124mf\u001b[39m\u001b[38;5;124m\"\u001b[39m\u001b[38;5;124mparameter of \u001b[39m\u001b[38;5;132;01m{\u001b[39;00mfunc\u001b[38;5;241m.\u001b[39m\u001b[38;5;18m__qualname__\u001b[39m\u001b[38;5;132;01m}\u001b[39;00m\u001b[38;5;124m must be\u001b[39m\u001b[38;5;124m\"\u001b[39m,\n\u001b[0;32m    222\u001b[0m         \u001b[38;5;28mstr\u001b[39m(e),\n\u001b[0;32m    223\u001b[0m     )\n",
      "File \u001b[1;32mc:\\Python312\\Lib\\site-packages\\sklearn\\metrics\\pairwise.py:1687\u001b[0m, in \u001b[0;36mcosine_similarity\u001b[1;34m(X, Y, dense_output)\u001b[0m\n\u001b[0;32m   1684\u001b[0m \u001b[38;5;28;01melse\u001b[39;00m:\n\u001b[0;32m   1685\u001b[0m     Y_normalized \u001b[38;5;241m=\u001b[39m normalize(Y, copy\u001b[38;5;241m=\u001b[39m\u001b[38;5;28;01mTrue\u001b[39;00m)\n\u001b[1;32m-> 1687\u001b[0m K \u001b[38;5;241m=\u001b[39m \u001b[43msafe_sparse_dot\u001b[49m\u001b[43m(\u001b[49m\u001b[43mX_normalized\u001b[49m\u001b[43m,\u001b[49m\u001b[43m \u001b[49m\u001b[43mY_normalized\u001b[49m\u001b[38;5;241;43m.\u001b[39;49m\u001b[43mT\u001b[49m\u001b[43m,\u001b[49m\u001b[43m \u001b[49m\u001b[43mdense_output\u001b[49m\u001b[38;5;241;43m=\u001b[39;49m\u001b[43mdense_output\u001b[49m\u001b[43m)\u001b[49m\n\u001b[0;32m   1689\u001b[0m \u001b[38;5;28;01mreturn\u001b[39;00m K\n",
      "File \u001b[1;32mc:\\Python312\\Lib\\site-packages\\sklearn\\utils\\extmath.py:205\u001b[0m, in \u001b[0;36msafe_sparse_dot\u001b[1;34m(a, b, dense_output)\u001b[0m\n\u001b[0;32m    203\u001b[0m         ret \u001b[38;5;241m=\u001b[39m np\u001b[38;5;241m.\u001b[39mdot(a, b)\n\u001b[0;32m    204\u001b[0m \u001b[38;5;28;01melse\u001b[39;00m:\n\u001b[1;32m--> 205\u001b[0m     ret \u001b[38;5;241m=\u001b[39m \u001b[43ma\u001b[49m\u001b[43m \u001b[49m\u001b[38;5;241;43m@\u001b[39;49m\u001b[43m \u001b[49m\u001b[43mb\u001b[49m\n\u001b[0;32m    207\u001b[0m \u001b[38;5;28;01mif\u001b[39;00m (\n\u001b[0;32m    208\u001b[0m     sparse\u001b[38;5;241m.\u001b[39missparse(a)\n\u001b[0;32m    209\u001b[0m     \u001b[38;5;129;01mand\u001b[39;00m sparse\u001b[38;5;241m.\u001b[39missparse(b)\n\u001b[0;32m    210\u001b[0m     \u001b[38;5;129;01mand\u001b[39;00m dense_output\n\u001b[0;32m    211\u001b[0m     \u001b[38;5;129;01mand\u001b[39;00m \u001b[38;5;28mhasattr\u001b[39m(ret, \u001b[38;5;124m\"\u001b[39m\u001b[38;5;124mtoarray\u001b[39m\u001b[38;5;124m\"\u001b[39m)\n\u001b[0;32m    212\u001b[0m ):\n\u001b[0;32m    213\u001b[0m     \u001b[38;5;28;01mreturn\u001b[39;00m ret\u001b[38;5;241m.\u001b[39mtoarray()\n",
      "File \u001b[1;32mc:\\Python312\\Lib\\site-packages\\scipy\\sparse\\_base.py:669\u001b[0m, in \u001b[0;36m_spbase.__matmul__\u001b[1;34m(self, other)\u001b[0m\n\u001b[0;32m    666\u001b[0m \u001b[38;5;28;01mif\u001b[39;00m isscalarlike(other):\n\u001b[0;32m    667\u001b[0m     \u001b[38;5;28;01mraise\u001b[39;00m \u001b[38;5;167;01mValueError\u001b[39;00m(\u001b[38;5;124m\"\u001b[39m\u001b[38;5;124mScalar operands are not allowed, \u001b[39m\u001b[38;5;124m\"\u001b[39m\n\u001b[0;32m    668\u001b[0m                      \u001b[38;5;124m\"\u001b[39m\u001b[38;5;124muse \u001b[39m\u001b[38;5;124m'\u001b[39m\u001b[38;5;124m*\u001b[39m\u001b[38;5;124m'\u001b[39m\u001b[38;5;124m instead\u001b[39m\u001b[38;5;124m\"\u001b[39m)\n\u001b[1;32m--> 669\u001b[0m \u001b[38;5;28;01mreturn\u001b[39;00m \u001b[38;5;28;43mself\u001b[39;49m\u001b[38;5;241;43m.\u001b[39;49m\u001b[43m_matmul_dispatch\u001b[49m\u001b[43m(\u001b[49m\u001b[43mother\u001b[49m\u001b[43m)\u001b[49m\n",
      "File \u001b[1;32mc:\\Python312\\Lib\\site-packages\\scipy\\sparse\\_base.py:580\u001b[0m, in \u001b[0;36m_spbase._matmul_dispatch\u001b[1;34m(self, other)\u001b[0m\n\u001b[0;32m    578\u001b[0m     \u001b[38;5;28;01mif\u001b[39;00m \u001b[38;5;28mself\u001b[39m\u001b[38;5;241m.\u001b[39mshape[\u001b[38;5;241m-\u001b[39m\u001b[38;5;241m1\u001b[39m] \u001b[38;5;241m!=\u001b[39m other\u001b[38;5;241m.\u001b[39mshape[\u001b[38;5;241m0\u001b[39m]:\n\u001b[0;32m    579\u001b[0m         \u001b[38;5;28;01mraise\u001b[39;00m \u001b[38;5;167;01mValueError\u001b[39;00m(\u001b[38;5;124m'\u001b[39m\u001b[38;5;124mdimension mismatch\u001b[39m\u001b[38;5;124m'\u001b[39m)\n\u001b[1;32m--> 580\u001b[0m     \u001b[38;5;28;01mreturn\u001b[39;00m \u001b[38;5;28;43mself\u001b[39;49m\u001b[38;5;241;43m.\u001b[39;49m\u001b[43m_matmul_sparse\u001b[49m\u001b[43m(\u001b[49m\u001b[43mother\u001b[49m\u001b[43m)\u001b[49m\n\u001b[0;32m    582\u001b[0m \u001b[38;5;66;03m# If it's a list or whatever, treat it like an array\u001b[39;00m\n\u001b[0;32m    583\u001b[0m other_a \u001b[38;5;241m=\u001b[39m np\u001b[38;5;241m.\u001b[39masanyarray(other)\n",
      "File \u001b[1;32mc:\\Python312\\Lib\\site-packages\\scipy\\sparse\\_compressed.py:529\u001b[0m, in \u001b[0;36m_cs_matrix._matmul_sparse\u001b[1;34m(self, other)\u001b[0m\n\u001b[0;32m    526\u001b[0m     new_shape \u001b[38;5;241m+\u001b[39m\u001b[38;5;241m=\u001b[39m (N,)\n\u001b[0;32m    528\u001b[0m major_dim \u001b[38;5;241m=\u001b[39m \u001b[38;5;28mself\u001b[39m\u001b[38;5;241m.\u001b[39m_swap((M, N))[\u001b[38;5;241m0\u001b[39m]\n\u001b[1;32m--> 529\u001b[0m other \u001b[38;5;241m=\u001b[39m \u001b[38;5;28;43mself\u001b[39;49m\u001b[38;5;241;43m.\u001b[39;49m\u001b[38;5;18;43m__class__\u001b[39;49m\u001b[43m(\u001b[49m\u001b[43mother\u001b[49m\u001b[43m)\u001b[49m  \u001b[38;5;66;03m# convert to this format\u001b[39;00m\n\u001b[0;32m    531\u001b[0m idx_dtype \u001b[38;5;241m=\u001b[39m \u001b[38;5;28mself\u001b[39m\u001b[38;5;241m.\u001b[39m_get_index_dtype((\u001b[38;5;28mself\u001b[39m\u001b[38;5;241m.\u001b[39mindptr, \u001b[38;5;28mself\u001b[39m\u001b[38;5;241m.\u001b[39mindices,\n\u001b[0;32m    532\u001b[0m                              other\u001b[38;5;241m.\u001b[39mindptr, other\u001b[38;5;241m.\u001b[39mindices))\n\u001b[0;32m    534\u001b[0m fn \u001b[38;5;241m=\u001b[39m \u001b[38;5;28mgetattr\u001b[39m(_sparsetools, \u001b[38;5;28mself\u001b[39m\u001b[38;5;241m.\u001b[39mformat \u001b[38;5;241m+\u001b[39m \u001b[38;5;124m'\u001b[39m\u001b[38;5;124m_matmat_maxnnz\u001b[39m\u001b[38;5;124m'\u001b[39m)\n",
      "File \u001b[1;32mc:\\Python312\\Lib\\site-packages\\scipy\\sparse\\_compressed.py:35\u001b[0m, in \u001b[0;36m_cs_matrix.__init__\u001b[1;34m(self, arg1, shape, dtype, copy)\u001b[0m\n\u001b[0;32m     33\u001b[0m         arg1 \u001b[38;5;241m=\u001b[39m arg1\u001b[38;5;241m.\u001b[39mcopy()\n\u001b[0;32m     34\u001b[0m     \u001b[38;5;28;01melse\u001b[39;00m:\n\u001b[1;32m---> 35\u001b[0m         arg1 \u001b[38;5;241m=\u001b[39m \u001b[43marg1\u001b[49m\u001b[38;5;241;43m.\u001b[39;49m\u001b[43masformat\u001b[49m\u001b[43m(\u001b[49m\u001b[38;5;28;43mself\u001b[39;49m\u001b[38;5;241;43m.\u001b[39;49m\u001b[43mformat\u001b[49m\u001b[43m)\u001b[49m\n\u001b[0;32m     36\u001b[0m     \u001b[38;5;28mself\u001b[39m\u001b[38;5;241m.\u001b[39mindptr, \u001b[38;5;28mself\u001b[39m\u001b[38;5;241m.\u001b[39mindices, \u001b[38;5;28mself\u001b[39m\u001b[38;5;241m.\u001b[39mdata, \u001b[38;5;28mself\u001b[39m\u001b[38;5;241m.\u001b[39m_shape \u001b[38;5;241m=\u001b[39m (\n\u001b[0;32m     37\u001b[0m         arg1\u001b[38;5;241m.\u001b[39mindptr, arg1\u001b[38;5;241m.\u001b[39mindices, arg1\u001b[38;5;241m.\u001b[39mdata, arg1\u001b[38;5;241m.\u001b[39m_shape\n\u001b[0;32m     38\u001b[0m     )\n\u001b[0;32m     40\u001b[0m \u001b[38;5;28;01melif\u001b[39;00m \u001b[38;5;28misinstance\u001b[39m(arg1, \u001b[38;5;28mtuple\u001b[39m):\n",
      "File \u001b[1;32mc:\\Python312\\Lib\\site-packages\\scipy\\sparse\\_base.py:409\u001b[0m, in \u001b[0;36m_spbase.asformat\u001b[1;34m(self, format, copy)\u001b[0m\n\u001b[0;32m    407\u001b[0m \u001b[38;5;66;03m# Forward the copy kwarg, if it's accepted.\u001b[39;00m\n\u001b[0;32m    408\u001b[0m \u001b[38;5;28;01mtry\u001b[39;00m:\n\u001b[1;32m--> 409\u001b[0m     \u001b[38;5;28;01mreturn\u001b[39;00m \u001b[43mconvert_method\u001b[49m\u001b[43m(\u001b[49m\u001b[43mcopy\u001b[49m\u001b[38;5;241;43m=\u001b[39;49m\u001b[43mcopy\u001b[49m\u001b[43m)\u001b[49m\n\u001b[0;32m    410\u001b[0m \u001b[38;5;28;01mexcept\u001b[39;00m \u001b[38;5;167;01mTypeError\u001b[39;00m:\n\u001b[0;32m    411\u001b[0m     \u001b[38;5;28;01mreturn\u001b[39;00m convert_method()\n",
      "File \u001b[1;32mc:\\Python312\\Lib\\site-packages\\scipy\\sparse\\_csc.py:52\u001b[0m, in \u001b[0;36m_csc_base.tocsr\u001b[1;34m(self, copy)\u001b[0m\n\u001b[0;32m     49\u001b[0m indices \u001b[38;5;241m=\u001b[39m np\u001b[38;5;241m.\u001b[39mempty(\u001b[38;5;28mself\u001b[39m\u001b[38;5;241m.\u001b[39mnnz, dtype\u001b[38;5;241m=\u001b[39midx_dtype)\n\u001b[0;32m     50\u001b[0m data \u001b[38;5;241m=\u001b[39m np\u001b[38;5;241m.\u001b[39mempty(\u001b[38;5;28mself\u001b[39m\u001b[38;5;241m.\u001b[39mnnz, dtype\u001b[38;5;241m=\u001b[39mupcast(\u001b[38;5;28mself\u001b[39m\u001b[38;5;241m.\u001b[39mdtype))\n\u001b[1;32m---> 52\u001b[0m \u001b[43mcsc_tocsr\u001b[49m\u001b[43m(\u001b[49m\u001b[43mM\u001b[49m\u001b[43m,\u001b[49m\u001b[43m \u001b[49m\u001b[43mN\u001b[49m\u001b[43m,\u001b[49m\n\u001b[0;32m     53\u001b[0m \u001b[43m          \u001b[49m\u001b[38;5;28;43mself\u001b[39;49m\u001b[38;5;241;43m.\u001b[39;49m\u001b[43mindptr\u001b[49m\u001b[38;5;241;43m.\u001b[39;49m\u001b[43mastype\u001b[49m\u001b[43m(\u001b[49m\u001b[43midx_dtype\u001b[49m\u001b[43m)\u001b[49m\u001b[43m,\u001b[49m\n\u001b[0;32m     54\u001b[0m \u001b[43m          \u001b[49m\u001b[38;5;28;43mself\u001b[39;49m\u001b[38;5;241;43m.\u001b[39;49m\u001b[43mindices\u001b[49m\u001b[38;5;241;43m.\u001b[39;49m\u001b[43mastype\u001b[49m\u001b[43m(\u001b[49m\u001b[43midx_dtype\u001b[49m\u001b[43m)\u001b[49m\u001b[43m,\u001b[49m\n\u001b[0;32m     55\u001b[0m \u001b[43m          \u001b[49m\u001b[38;5;28;43mself\u001b[39;49m\u001b[38;5;241;43m.\u001b[39;49m\u001b[43mdata\u001b[49m\u001b[43m,\u001b[49m\n\u001b[0;32m     56\u001b[0m \u001b[43m          \u001b[49m\u001b[43mindptr\u001b[49m\u001b[43m,\u001b[49m\n\u001b[0;32m     57\u001b[0m \u001b[43m          \u001b[49m\u001b[43mindices\u001b[49m\u001b[43m,\u001b[49m\n\u001b[0;32m     58\u001b[0m \u001b[43m          \u001b[49m\u001b[43mdata\u001b[49m\u001b[43m)\u001b[49m\n\u001b[0;32m     60\u001b[0m A \u001b[38;5;241m=\u001b[39m \u001b[38;5;28mself\u001b[39m\u001b[38;5;241m.\u001b[39m_csr_container(\n\u001b[0;32m     61\u001b[0m     (data, indices, indptr),\n\u001b[0;32m     62\u001b[0m     shape\u001b[38;5;241m=\u001b[39m\u001b[38;5;28mself\u001b[39m\u001b[38;5;241m.\u001b[39mshape, copy\u001b[38;5;241m=\u001b[39m\u001b[38;5;28;01mFalse\u001b[39;00m\n\u001b[0;32m     63\u001b[0m )\n\u001b[0;32m     64\u001b[0m A\u001b[38;5;241m.\u001b[39mhas_sorted_indices \u001b[38;5;241m=\u001b[39m \u001b[38;5;28;01mTrue\u001b[39;00m\n",
      "\u001b[1;31mKeyboardInterrupt\u001b[0m: "
     ]
    }
   ],
   "source": [
    "# Initialize heaps\n",
    "top_5_heap = []\n",
    "false_positive_heap = []\n",
    "false_negative_heap = []\n",
    "\n",
    "# Pairwise comparison loop\n",
    "for i in range(X.shape[0]):\n",
    "    for j in range(i + 1, X.shape[0]):\n",
    "        cosine_score = cosine_similarity(X[i], X[j])[0][0]\n",
    "        if cosine_score >= 0.999:\n",
    "            continue  # Skip near-duplicates\n",
    "\n",
    "        # Top 5 by cosine similarity\n",
    "        if len(top_5_heap) < 5:\n",
    "            heapq.heappush(top_5_heap, (cosine_score, i, j))\n",
    "        else:\n",
    "            heapq.heappushpop(top_5_heap, (cosine_score, i, j))\n",
    "\n",
    "        # Real-time validation: compute overlap\n",
    "        overlap_score = simple_word_overlap(df.iloc[i]['full_text'], df.iloc[j]['full_text'])\n",
    "\n",
    "        # False Positive: high cosine, low overlap\n",
    "        if cosine_score >= 0.85 and overlap_score < 0.3:\n",
    "            heapq.heappush(false_positive_heap, (cosine_score, i, j, overlap_score))\n",
    "            false_positive_heap = sorted(false_positive_heap, reverse=True)[:2]\n",
    "\n",
    "        # False Negative: low cosine, high overlap\n",
    "        if cosine_score < 0.4 and overlap_score >= 0.6:\n",
    "            heapq.heappush(false_negative_heap, (overlap_score, i, j, cosine_score))\n",
    "            false_negative_heap = sorted(false_negative_heap, reverse=True)[:2]"
   ]
  },
  {
   "cell_type": "code",
   "execution_count": 10,
   "metadata": {},
   "outputs": [
    {
     "name": "stdout",
     "output_type": "stream",
     "text": [
      "TOP 5 SIMILAR ESSAY PAIRS\n",
      "\n",
      "Essay 0036253 vs Essay e35f6ff\n",
      "Cosine Similarity: 0.7500\n",
      "Essay 1 Preview: The challenge of exploring Venus  This storie is about the challeng of exploring Venus. The auhor talked how venus is closest planet in earth. The aut\n",
      "Essay 2 Preview: The author does not support his idea well that studiying Venus is a worthy pursuit despite the dangers. The author talks about people being facinated \n",
      "\n",
      "Essay 0036253 vs Essay 0c0463c\n",
      "Cosine Similarity: 0.7353\n",
      "Essay 1 Preview: The challenge of exploring Venus  This storie is about the challeng of exploring Venus. The auhor talked how venus is closest planet in earth. The aut\n",
      "Essay 2 Preview: Studying Venus seems almost impossible with all the risks, but the author of \"The Challenge of Exploring Venus\" suggests that Venus is a worthy pursui\n",
      "\n",
      "Essay 0036253 vs Essay 1284ac4\n",
      "Cosine Similarity: 0.7326\n",
      "Essay 1 Preview: The challenge of exploring Venus  This storie is about the challeng of exploring Venus. The auhor talked how venus is closest planet in earth. The aut\n",
      "Essay 2 Preview: The Challenge Of Exploring Venus  The story \"The Challenge of Exploring Venus\", is about the planet Venus. Venus is a second planet from the sun, is o\n",
      "\n",
      "Essay 0036253 vs Essay f95baca\n",
      "Cosine Similarity: 0.7324\n",
      "Essay 1 Preview: The challenge of exploring Venus  This storie is about the challeng of exploring Venus. The auhor talked how venus is closest planet in earth. The aut\n",
      "Essay 2 Preview: I claim that the author explained well about studying Venus is a worthy pursuit even though it's dangerous.  The author explained a lot about why scie\n",
      "\n",
      "Essay 0036253 vs Essay 2d356a1\n",
      "Cosine Similarity: 0.7313\n",
      "Essay 1 Preview: The challenge of exploring Venus  This storie is about the challeng of exploring Venus. The auhor talked how venus is closest planet in earth. The aut\n",
      "Essay 2 Preview: The \"Evening Star\" as the author from \"The Challenges of Exploring Venus\" is another name for venus. Venus known for being inhospitable to humans has \n",
      "\n",
      "POTENTIAL FALSE POSITIVES\n",
      "\n",
      "POTENTIAL FALSE NEGATIVES\n"
     ]
    }
   ],
   "source": [
    "# Display results\n",
    "print(\"TOP 5 SIMILAR ESSAY PAIRS\")\n",
    "top_5 = sorted(top_5_heap, key=lambda x: x[0], reverse=True)\n",
    "for sim, i, j in top_5:\n",
    "    print(f\"\\nEssay {df.iloc[i]['essay_id']} vs Essay {df.iloc[j]['essay_id']}\")\n",
    "    print(f\"Cosine Similarity: {sim:.4f}\")\n",
    "    print(\"Essay 1 Preview:\", df.iloc[i]['full_text'][:150].replace('\\n', ' '))\n",
    "    print(\"Essay 2 Preview:\", df.iloc[j]['full_text'][:150].replace('\\n', ' '))\n",
    "\n",
    "print(\"\\nPOTENTIAL FALSE POSITIVES\")\n",
    "for sim, i, j, overlap in false_positive_heap:\n",
    "    print(f\"\\nEssay {df.iloc[i]['essay_id']} vs Essay {df.iloc[j]['essay_id']}\")\n",
    "    print(f\"Cosine: {sim:.4f}, Overlap: {overlap:.4f}\")\n",
    "    print(\"Essay 1 Preview:\", df.iloc[i]['full_text'][:150].replace('\\n', ' '))\n",
    "    print(\"Essay 2 Preview:\", df.iloc[j]['full_text'][:150].replace('\\n', ' '))\n",
    "\n",
    "print(\"\\nPOTENTIAL FALSE NEGATIVES\")\n",
    "for overlap, i, j, cosine in false_negative_heap:\n",
    "    print(f\"\\nEssay {df.iloc[i]['essay_id']} vs Essay {df.iloc[j]['essay_id']}\")\n",
    "    print(f\"Overlap: {overlap:.4f}, Cosine: {cosine:.4f}\")\n",
    "    print(\"Essay 1 Preview:\", df.iloc[i]['full_text'][:150].replace('\\n', ' '))\n",
    "    print(\"Essay 2 Preview:\", df.iloc[j]['full_text'][:150].replace('\\n', ' '))"
   ]
  },
  {
   "cell_type": "markdown",
   "metadata": {},
   "source": [
    "### The part below is a way of testing the Cosine similarity and the actual amount of word overlap between the top 5 pairs of essays. This helps give a look to see if the model is actually working well or not."
   ]
  },
  {
   "cell_type": "code",
   "execution_count": null,
   "metadata": {},
   "outputs": [
    {
     "name": "stdout",
     "output_type": "stream",
     "text": [
      "\n",
      "Essay 29139ff vs Essay 6b51c4c\n",
      "Cosine Similarity: 0.9219\n",
      "Word Overlap Score: 0.1319\n",
      "Flagged as a potential FALSE POSITIVE (high cosine, low overlap)\n",
      "\n",
      "Essay 7d34dd4 vs Essay 9706cf0\n",
      "Cosine Similarity: 0.8890\n",
      "Word Overlap Score: 0.0866\n",
      "Flagged as a potential FALSE POSITIVE (high cosine, low overlap)\n",
      "\n",
      "Essay 4b79d77 vs Essay dc225ea\n",
      "Cosine Similarity: 0.8873\n",
      "Word Overlap Score: 0.1399\n",
      "Flagged as a potential FALSE POSITIVE (high cosine, low overlap)\n",
      "\n",
      "Essay 7b69af5 vs Essay 8291f47\n",
      "Cosine Similarity: 0.8864\n",
      "Word Overlap Score: 0.1788\n",
      "Flagged as a potential FALSE POSITIVE (high cosine, low overlap)\n",
      "\n",
      "Essay 2805912 vs Essay 8291f47\n",
      "Cosine Similarity: 0.8773\n",
      "Word Overlap Score: 0.1000\n",
      "Flagged as a potential FALSE POSITIVE (high cosine, low overlap)\n"
     ]
    }
   ],
   "source": [
    "#This model was inspired by chatGPT and online resources to test the accuracy of the\n",
    "# word by word model above. I will use this again later to continue\n",
    "#Testing further models following the same parameters.\n",
    "'''\n",
    "def simple_word_overlap(text1, text2):\n",
    "    words1 = set(text1.lower().split())\n",
    "    words2 = set(text2.lower().split())\n",
    "    if not words1 or not words2:\n",
    "        return 0.0\n",
    "    return len(words1 & words2) / len(words1 | words2)\n",
    "\n",
    "threshold_cosine = 0.85\n",
    "threshold_overlap = 0.3\n",
    "\n",
    "for sim, i, j in top_5:\n",
    "    essay1 = df.iloc[i]['full_text']\n",
    "    essay2 = df.iloc[j]['full_text']\n",
    "    overlap_score = simple_word_overlap(essay1, essay2)\n",
    "\n",
    "    print(f\"\\nEssay {df.iloc[i]['essay_id']} vs Essay {df.iloc[j]['essay_id']}\")\n",
    "    print(f\"Cosine Similarity: {sim:.4f}\")\n",
    "    print(f\"Word Overlap Score: {overlap_score:.4f}\")\n",
    "\n",
    "    if sim >= threshold_cosine and overlap_score < threshold_overlap:\n",
    "        print(\"Flagged as a potential FALSE POSITIVE (high cosine, low overlap)\")\n",
    "'''"
   ]
  }
 ],
 "metadata": {
  "kernelspec": {
   "display_name": "Python 3",
   "language": "python",
   "name": "python3"
  },
  "language_info": {
   "codemirror_mode": {
    "name": "ipython",
    "version": 3
   },
   "file_extension": ".py",
   "mimetype": "text/x-python",
   "name": "python",
   "nbconvert_exporter": "python",
   "pygments_lexer": "ipython3",
   "version": "3.12.1"
  }
 },
 "nbformat": 4,
 "nbformat_minor": 2
}
