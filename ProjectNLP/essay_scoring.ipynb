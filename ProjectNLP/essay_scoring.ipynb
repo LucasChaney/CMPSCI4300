{
 "cells": [
  {
   "cell_type": "code",
   "execution_count": 12,
   "metadata": {},
   "outputs": [
    {
     "name": "stdout",
     "output_type": "stream",
     "text": [
      "Index(['essay_id', 'full_text', 'score'], dtype='object')\n",
      "  essay_id                                          full_text  score\n",
      "0  000d118  Many people have car where they live. The thin...      3\n",
      "1  000fe60  I am a scientist at NASA that is discussing th...      3\n",
      "2  001ab80  People always wish they had the same technolog...      4\n",
      "3  001bdc0  We all heard about Venus, the planet without a...      4\n",
      "4  002ba53  Dear, State Senator\\n\\nThis is a letter to arg...      3\n"
     ]
    }
   ],
   "source": [
    "import pandas as pd\n",
    "\n",
    "# Load the training data\n",
    "train_path = r'train.csv'\n",
    "df = pd.read_csv(train_path)\n",
    "\n",
    "# Quick peek at the data\n",
    "print(df.columns)\n",
    "print(df[[\"essay_id\",\"full_text\",\"score\"]].head())\n",
    "\n",
    "#Remove placeholder essays like \"PROPER_NAME\"\n",
    "df = df[~df['full_text'].str.contains(\"PROPER_NAME\", na=False)]\n",
    "\n",
    "# Reset index for safety\n",
    "df.reset_index(drop=True, inplace=True)\n"
   ]
  },
  {
   "cell_type": "markdown",
   "metadata": {},
   "source": [
    "# Use this to preview an essay of choice"
   ]
  },
  {
   "cell_type": "code",
   "execution_count": 13,
   "metadata": {},
   "outputs": [
    {
     "name": "stdout",
     "output_type": "stream",
     "text": [
      "Essay ID: 000d118\n",
      "Essay Preview:\n",
      " Many people have car where they live. The thing they don't know is that when you use a car alot of thing can happen like you can get in accidet or the smoke that the car has is bad to breath on if someone is walk but in VAUBAN,Germany they dont have that proble because 70 percent of vauban's families do not own cars,and 57 percent sold a car to move there. Street parkig ,driveways and home garages are forbidden on the outskirts of freiburd that near the French and Swiss borders. You probaly won'\n"
     ]
    }
   ],
   "source": [
    "print(\"Essay ID:\", df.loc[0, 'essay_id'])\n",
    "print(\"Essay Preview:\\n\", df.loc[0, 'full_text'][:500])\n"
   ]
  },
  {
   "cell_type": "markdown",
   "metadata": {},
   "source": [
    "## Method 1"
   ]
  },
  {
   "cell_type": "code",
   "execution_count": 14,
   "metadata": {},
   "outputs": [],
   "source": [
    "import pandas as pd\n",
    "from sklearn.feature_extraction.text import CountVectorizer\n",
    "from sklearn.metrics.pairwise import cosine_similarity\n",
    "import numpy as np\n",
    "import heapq"
   ]
  },
  {
   "cell_type": "code",
   "execution_count": 15,
   "metadata": {},
   "outputs": [],
   "source": [
    "# Load the training data\n",
    "df = pd.read_csv(r'train.csv')\n",
    "df = df[['essay_id', 'full_text', 'score']]\n",
    "df = df[~df['full_text'].str.contains(\"PROPER_NAME\", na=False)]\n",
    "df = df.head(1000).reset_index(drop=True)"
   ]
  },
  {
   "cell_type": "code",
   "execution_count": 16,
   "metadata": {},
   "outputs": [],
   "source": [
    "vectorizer = CountVectorizer(stop_words='english')\n",
    "X = vectorizer.fit_transform(df['full_text'])  # Sparse matrix (num_essays x vocab_size)"
   ]
  },
  {
   "cell_type": "code",
   "execution_count": 17,
   "metadata": {},
   "outputs": [],
   "source": [
    "similarity_matrix = cosine_similarity(X)\n",
    "\n",
    "# Set diagonal (self-similarity) to 0 so we don't pick them\n",
    "np.fill_diagonal(similarity_matrix, 0)"
   ]
  },
  {
   "cell_type": "code",
   "execution_count": 18,
   "metadata": {},
   "outputs": [],
   "source": [
    "top_5_heap = []\n",
    "\n",
    "for i in range(similarity_matrix.shape[0]):\n",
    "    for j in range(i + 1, similarity_matrix.shape[0]):\n",
    "        sim = similarity_matrix[i, j]\n",
    "        if sim >= 0.999:  # Skip near-exact duplicates\n",
    "            continue\n",
    "        if len(top_5_heap) < 5:\n",
    "            heapq.heappush(top_5_heap, (sim, i, j))\n",
    "        else:\n",
    "            heapq.heappushpop(top_5_heap, (sim, i, j))\n"
   ]
  },
  {
   "cell_type": "code",
   "execution_count": 19,
   "metadata": {},
   "outputs": [
    {
     "name": "stdout",
     "output_type": "stream",
     "text": [
      "\n",
      "Essay 077377d vs Essay 0c8f97b\n",
      "Similarity Score: 0.8253\n",
      "Essay 1 Preview: The Electoral College is a process, not a place. The meaning of Electoral College is stated in Source 1: What is Electoral College and in paragraph 2.\n",
      "Essay 2 Preview: The Electoral College is not a place, but a process. It was established by the founding fathers in the Constitution. The college consists of electors,\n",
      "\n",
      "Essay 07a14a5 vs Essay 0fbd5ba\n",
      "Similarity Score: 0.8211\n",
      "Essay 1 Preview: The author's claim of studying Venus is a worthy pursuit because Venus is closely related to Earth, Venus has a enviroment that is similar to Earth, a\n",
      "Essay 2 Preview: Many look up into the sky and see Venus, one of the brightest points in the night sky. While it looks like a star, it is actually a planet. In fact, i\n",
      "\n",
      "Essay 0425a6e vs Essay 098d10a\n",
      "Similarity Score: 0.8076\n",
      "Essay 1 Preview: In this article the author is talking about going to Venus. The author explains the reasons why we should explore this planet. The author mentions tha\n",
      "Essay 2 Preview: The planet Venus may be one of our most valuable assets to understand our planet, but Venus has some dangers we cannot ignore. In \"The Challenge of Ex\n",
      "\n",
      "Essay 051c46a vs Essay 0870f09\n",
      "Similarity Score: 0.8044\n",
      "Essay 1 Preview: Dear senator,  I have done research and I would like to change the Electoral College to the popular vote for the President of the United States. Sourc\n",
      "Essay 2 Preview: Changing the election by popluar vote for the President of the United States would be a better option than keeping the Electoral College. Although the\n",
      "\n",
      "Essay 02d481d vs Essay 0f81127\n",
      "Similarity Score: 0.8040\n",
      "Essay 1 Preview: Dear, Senator  The  Electoral college has been around for centuries and as time changes, things start to evolve and grow along with the time period.  \n",
      "Essay 2 Preview: It is often said that \"change is good.\" This saying is one way to describe my feelings towards the Electoral College. The sources \"What Is the Elector\n"
     ]
    }
   ],
   "source": [
    "# Print the top 5 pairs\n",
    "top_5 = sorted(top_5_heap, key=lambda x: x[0], reverse=True)\n",
    "\n",
    "for sim, i, j in top_5:\n",
    "    print(f\"\\nEssay {df.loc[i, 'essay_id']} vs Essay {df.loc[j, 'essay_id']}\")\n",
    "    print(f\"Similarity Score: {sim:.4f}\")\n",
    "    print(\"Essay 1 Preview:\", df.loc[i, 'full_text'][:150].replace('\\n', ' '))\n",
    "    print(\"Essay 2 Preview:\", df.loc[j, 'full_text'][:150].replace('\\n', ' '))"
   ]
  }
 ],
 "metadata": {
  "kernelspec": {
   "display_name": "Python 3",
   "language": "python",
   "name": "python3"
  },
  "language_info": {
   "codemirror_mode": {
    "name": "ipython",
    "version": 3
   },
   "file_extension": ".py",
   "mimetype": "text/x-python",
   "name": "python",
   "nbconvert_exporter": "python",
   "pygments_lexer": "ipython3",
   "version": "3.10.11"
  }
 },
 "nbformat": 4,
 "nbformat_minor": 2
}
