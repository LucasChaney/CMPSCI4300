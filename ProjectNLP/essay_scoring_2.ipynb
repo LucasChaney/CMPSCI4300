{
 "cells": [
  {
   "cell_type": "code",
   "execution_count": 6,
   "metadata": {},
   "outputs": [],
   "source": [
    "import pandas as pd\n",
    "from sklearn.feature_extraction.text import CountVectorizer\n",
    "import numpy as np\n",
    "from sklearn.metrics.pairwise import cosine_similarity\n",
    "from collections import Counter\n",
    "import time\n",
    "import nltk\n",
    "from nltk.corpus import stopwords\n",
    "from nltk.stem import WordNetLemmatizer\n",
    "import re"
   ]
  },
  {
   "cell_type": "code",
   "execution_count": 7,
   "metadata": {},
   "outputs": [
    {
     "name": "stderr",
     "output_type": "stream",
     "text": [
      "[nltk_data] Downloading package stopwords to\n",
      "[nltk_data]     C:\\Users\\lukec\\AppData\\Roaming\\nltk_data...\n",
      "[nltk_data]   Package stopwords is already up-to-date!\n",
      "[nltk_data] Downloading package wordnet to\n",
      "[nltk_data]     C:\\Users\\lukec\\AppData\\Roaming\\nltk_data...\n",
      "[nltk_data]   Package wordnet is already up-to-date!\n"
     ]
    },
    {
     "data": {
      "text/plain": [
       "True"
      ]
     },
     "execution_count": 7,
     "metadata": {},
     "output_type": "execute_result"
    }
   ],
   "source": [
    "# Preprocess text requirements\n",
    "nltk.download('stopwords')\n",
    "nltk.download('wordnet')"
   ]
  },
  {
   "cell_type": "code",
   "execution_count": 8,
   "metadata": {},
   "outputs": [],
   "source": [
    "np.random.seed(42)"
   ]
  },
  {
   "cell_type": "code",
   "execution_count": 9,
   "metadata": {},
   "outputs": [],
   "source": [
    "# Load data\n",
    "data = pd.read_csv('nlp_project_train.csv')\n",
    "essays = data['full_text']\n",
    "scores = data['score']  # Scores 1-6"
   ]
  },
  {
   "cell_type": "code",
   "execution_count": 10,
   "metadata": {},
   "outputs": [],
   "source": [
    "def preprocess_text(text):\n",
    "    # Lowercase\n",
    "    text = text.lower()\n",
    "    # Remove punctuation and numbers\n",
    "    text = re.sub(r'[^a-zA-Z\\s]', '', text)\n",
    "    # Tokenize\n",
    "    words = text.split()\n",
    "    # Remove stopwords\n",
    "    stop_words = set(stopwords.words('english'))\n",
    "    words = [w for w in words if w not in stop_words]\n",
    "    # Lemmatize\n",
    "    lemmatizer = WordNetLemmatizer()\n",
    "    words = [lemmatizer.lemmatize(w) for w in words]\n",
    "    return words # Needs to be a list of lists for word_overlap to work\n",
    "processed_essays = [preprocess_text(essay) for essay in essays]"
   ]
  },
  {
   "cell_type": "markdown",
   "metadata": {},
   "source": [
    "# Method 1: Pure Word Frequency"
   ]
  },
  {
   "cell_type": "code",
   "execution_count": null,
   "metadata": {},
   "outputs": [],
   "source": [
    "from collections import defaultdict\n",
    "\n",
    "def word_overlap(essay1, essay2):\n",
    "    # Count word frequencies in each essay\n",
    "    freq1 = defaultdict(int)\n",
    "    for word in essay1:\n",
    "        freq1[word] += 1\n",
    "    \n",
    "    freq2 = defaultdict(int)\n",
    "    for word in essay2:\n",
    "        freq2[word] += 1\n",
    "    \n",
    "    # Calculate the sum of minimum frequencies for common words\n",
    "    common_sum = 0\n",
    "    for word in freq1:\n",
    "        if word in freq2:\n",
    "            common_sum += min(freq1[word], freq2[word])\n",
    "    \n",
    "    # Calculate the total number of words in both essays\n",
    "    total_words = sum(freq1.values()) + sum(freq2.values())\n",
    "    \n",
    "    # The overlap is the ratio of common_sum to total_words\n",
    "    return (2 * common_sum) / total_words if total_words else 0 # Avoid division by zero, 2 times to make sure similarity is from0-1 not 0-0.5\n"
   ]
  },
  {
   "cell_type": "code",
   "execution_count": null,
   "metadata": {},
   "outputs": [
    {
     "name": "stdout",
     "output_type": "stream",
     "text": [
      "Time taken for word overlap similarity: 0.0050 seconds\n",
      "Word overlap similarity: 9.60%\n"
     ]
    }
   ],
   "source": [
    "# Test of functionality\n",
    "start_time = time.time()\n",
    "similarity_score = word_overlap(processed_essays[0], processed_essays[1])\n",
    "end_time = time.time()\n",
    "print(f\"Time taken for word overlap similarity: {end_time - start_time:.4f} seconds\")\n",
    "print(f\"Word overlap similarity: {100 * similarity_score:.2f}%\")"
   ]
  },
  {
   "cell_type": "code",
   "execution_count": null,
   "metadata": {},
   "outputs": [],
   "source": [
    "# Create a similarity matrix\n",
    "num_essays = len(processed_essays)\n",
    "similarity_matrix = np.zeros((num_essays, num_essays))\n",
    "\n",
    "# Compute word overlap similarity for pairs of essays above the diagonal\n",
    "for i in range(num_essays):\n",
    "    for j in range(i + 1, num_essays):  # Only compute for j > i\n",
    "        similarity_matrix[i, j] = word_overlap(processed_essays[i], processed_essays[j])\n",
    "# pd.DataFrame(similarity_matrix).to_csv('similarity_matrix.csv', index=False)"
   ]
  }
 ],
 "metadata": {
  "kernelspec": {
   "display_name": "Python 3",
   "language": "python",
   "name": "python3"
  },
  "language_info": {
   "codemirror_mode": {
    "name": "ipython",
    "version": 3
   },
   "file_extension": ".py",
   "mimetype": "text/x-python",
   "name": "python",
   "nbconvert_exporter": "python",
   "pygments_lexer": "ipython3",
   "version": "3.12.1"
  }
 },
 "nbformat": 4,
 "nbformat_minor": 2
}
